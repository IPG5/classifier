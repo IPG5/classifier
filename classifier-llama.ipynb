{
 "cells": [
  {
   "cell_type": "markdown",
   "metadata": {},
   "source": [
    "# classifier-llama\n",
    "\n",
    "- includes\n",
    "  - determining the computing device\n",
    "  - model name\n",
    "  - data path\n",
    "  - config"
   ]
  },
  {
   "cell_type": "code",
   "execution_count": null,
   "metadata": {},
   "outputs": [
    {
     "name": "stdout",
     "output_type": "stream",
     "text": [
      "This machine is training on cuda:0\n"
     ]
    }
   ],
   "source": [
    "import json\n",
    "import re\n",
    "from pprint import pprint\n",
    "import evaluate\n",
    "import pandas as pd\n",
    "import torch\n",
    "from datasets import Dataset, load_dataset\n",
    "from huggingface_hub import login\n",
    "from peft import LoraConfig, PeftModel, get_peft_model, PeftModel\n",
    "from transformers import (\n",
    "    AutoModelForSequenceClassification,\n",
    "    AutoTokenizer,\n",
    "    BitsAndBytesConfig,\n",
    "    TrainingArguments,\n",
    "    LlamaModel,\n",
    "    AutoConfig,\n",
    "    DataCollatorWithPadding,\n",
    "    Trainer,\n",
    "    TrainingArguments,\n",
    "    EarlyStoppingCallback\n",
    ")\n",
    "from trl import SFTTrainer\n",
    "from sklearn.model_selection import train_test_split\n",
    "import numpy as np\n",
    "from dotenv import load_dotenv\n",
    "import os\n",
    " \n",
    "DEVICE = \"cuda:0\" if torch.cuda.is_available() else \"cpu\"\n",
    "PRETRAINED_MODEL_PATH = \"models-pretrained/\"\n",
    "MODEL_NAME = \"meta-llama/Llama-3.2-1B\" \n",
    "DATA_PATH = \"data\"\n",
    "OMM_PATH = \"omm_v1\"\n",
    "NORMAL_DATA = \"normal_data_output.json\"\n",
    "SUSPICIOUS_DATA = \"suspicious_data_output.json\"\n",
    "MODEL_NAME_PATH = \"llama\"\n",
    "MODEL_DIR = \"model\"\n",
    "TOKENIZER_DIR = \"tokenizer\"\n",
    "RANDOM_SEED = 42\n",
    "\n",
    "load_dotenv()\n",
    "torch.cuda.empty_cache()\n",
    "torch.backends.cudnn.benchmark = True\n",
    "torch.cuda.reset_peak_memory_stats()\n",
    "\n",
    "print(\"This machine is training on\",DEVICE)"
   ]
  },
  {
   "cell_type": "markdown",
   "metadata": {},
   "source": [
    "## data processing\n",
    "\n",
    "- create label maps\n",
    "- process json files (only need to run once)"
   ]
  },
  {
   "cell_type": "code",
   "execution_count": 2,
   "metadata": {},
   "outputs": [],
   "source": [
    "# label maps\n",
    "id2label = {0: \"Normal\", 1: \"Suspicious\"}\n",
    "label2id = {v:k for k,v in id2label.items()}"
   ]
  },
  {
   "cell_type": "code",
   "execution_count": 4,
   "metadata": {},
   "outputs": [],
   "source": [
    "# omm data\n",
    "normal_data = {\"1pass.json\",\"2pass.json\",\"3pass.json\",\"4pass.json\",\"5pass.json\",\"6pass.json\",\"7pass.json\",\"8pass.json\"}\n",
    "sus_data = {\"1output.json\",\"2output.json\",\"3output.json\",\"4output.json\",\"5output.json\",\"6output.json\",\"7output.json\",\"8output.json\"}\n",
    "\n",
    "def read_json_files(file_set, path):\n",
    "    data={}\n",
    "    for file in file_set:\n",
    "        file_path = os.path.join(path, file)\n",
    "        if os.path.exists(file_path):\n",
    "            with open(file_path, \"r\", encoding=\"utf-8\") as f:\n",
    "                try:\n",
    "                    file_content = json.load(f)\n",
    "                    data.update(file_content)\n",
    "                except json.JSONDecodeError:\n",
    "                    print(f\"Error reading {file}: Invalid JSON format\")\n",
    "        else:\n",
    "            print(f\"Warning: {file} not found\")\n",
    "    return data\n",
    "\n",
    "normal_data = read_json_files(normal_data, os.path.join(DATA_PATH, OMM_PATH))\n",
    "sus_data = read_json_files(sus_data, os.path.join(DATA_PATH, OMM_PATH))\n",
    "\n",
    "normal_output_file = os.path.join(DATA_PATH, NORMAL_DATA)\n",
    "sus_output_file = os.path.join(DATA_PATH, SUSPICIOUS_DATA)\n",
    "\n",
    "with open(normal_output_file, \"w\", encoding=\"utf-8\") as f:\n",
    "    json.dump(normal_data, f, indent=4)\n",
    "with open(sus_output_file, \"w\", encoding=\"utf-8\") as f:\n",
    "    json.dump(sus_data, f, indent=4)"
   ]
  },
  {
   "cell_type": "markdown",
   "metadata": {},
   "source": [
    "## fetching pretrained model\n",
    "\n",
    "- fetch it only if it does not exist on models-pretrained directory (only need to run once)\n",
    "- "
   ]
  },
  {
   "cell_type": "code",
   "execution_count": null,
   "metadata": {},
   "outputs": [
    {
     "name": "stderr",
     "output_type": "stream",
     "text": [
      "Some weights of LlamaForSequenceClassification were not initialized from the model checkpoint at meta-llama/Llama-3.2-1B and are newly initialized: ['score.weight']\n",
      "You should probably TRAIN this model on a down-stream task to be able to use it for predictions and inference.\n"
     ]
    },
    {
     "data": {
      "text/plain": [
       "('models-pretrained/llama/tokenizer/tokenizer_config.json',\n",
       " 'models-pretrained/llama/tokenizer/special_tokens_map.json',\n",
       " 'models-pretrained/llama/tokenizer/tokenizer.json')"
      ]
     },
     "execution_count": 3,
     "metadata": {},
     "output_type": "execute_result"
    }
   ],
   "source": [
    "login(token=os.getenv(\"hugging_face_PAG\"))\n",
    "\n",
    "pretrained_model = AutoModelForSequenceClassification.from_pretrained(\n",
    "    MODEL_NAME,\n",
    "    num_labels=len(id2label),\n",
    "    id2label=id2label,\n",
    "    label2id=label2id\n",
    "    ).to(DEVICE)\n",
    "pretrained_tokenizer = AutoTokenizer.from_pretrained(MODEL_NAME, add_prefix_space=True)\n",
    "\n",
    "path = os.path.join(PRETRAINED_MODEL_PATH, MODEL_NAME_PATH)\n",
    "\n",
    "os.makedirs(path, exist_ok=True)\n",
    "\n",
    "pretrained_model.save_pretrained(os.path.join(path, MODEL_DIR))\n",
    "pretrained_tokenizer.save_pretrained(os.path.join(path, TOKENIZER_DIR))"
   ]
  }
 ],
 "metadata": {
  "kernelspec": {
   "display_name": "Python 3",
   "language": "python",
   "name": "python3"
  },
  "language_info": {
   "codemirror_mode": {
    "name": "ipython",
    "version": 3
   },
   "file_extension": ".py",
   "mimetype": "text/x-python",
   "name": "python",
   "nbconvert_exporter": "python",
   "pygments_lexer": "ipython3",
   "version": "3.12.9"
  }
 },
 "nbformat": 4,
 "nbformat_minor": 2
}
