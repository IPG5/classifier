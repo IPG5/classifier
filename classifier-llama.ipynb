{
 "cells": [
  {
   "cell_type": "markdown",
   "metadata": {},
   "source": [
    "# classifier-llama\n",
    "\n",
    "- includes\n",
    "  - determining the computing device\n",
    "  - model name\n",
    "  - data path\n",
    "  - config"
   ]
  },
  {
   "cell_type": "code",
   "execution_count": 1,
   "metadata": {},
   "outputs": [
    {
     "name": "stdout",
     "output_type": "stream",
     "text": [
      "This model is training on cuda:0\n"
     ]
    }
   ],
   "source": [
    "import json\n",
    "import re\n",
    "from pprint import pprint\n",
    "import evaluate\n",
    "import pandas as pd\n",
    "import torch\n",
    "from datasets import Dataset, load_dataset\n",
    "from huggingface_hub import login\n",
    "from peft import LoraConfig, PeftModel, get_peft_model, PeftModel\n",
    "from transformers import (\n",
    "    AutoModelForSequenceClassification,\n",
    "    AutoTokenizer,\n",
    "    BitsAndBytesConfig,\n",
    "    TrainingArguments,\n",
    "    LlamaModel,\n",
    "    AutoConfig,\n",
    "    DataCollatorWithPadding,\n",
    "    Trainer,\n",
    "    TrainingArguments,\n",
    "    EarlyStoppingCallback\n",
    ")\n",
    "from trl import SFTTrainer\n",
    "from sklearn.model_selection import train_test_split\n",
    "import numpy as np\n",
    "from dotenv import load_dotenv\n",
    "import os\n",
    "from pathlib import Path\n",
    " \n",
    "DEVICE = \"cuda:0\" if torch.cuda.is_available() else \"cpu\"\n",
    "PRETRAINED_MODEL_PATH = \"models-pretrained/\"\n",
    "MODEL_NAME = \"meta-llama/Llama-3.2-1B\" \n",
    "DATA_PATH = \"data\"\n",
    "OMM_PATH = \"omm_v1\"\n",
    "TEST_DATA = \"test.jsonl\"\n",
    "TRAIN_DATA = \"train.jsonl\"\n",
    "MODEL_NAME_PATH = \"llama\"\n",
    "MODEL_DIR = \"model\"\n",
    "TOKENIZER_DIR = \"tokenizer\"\n",
    "RANDOM_SEED = 42\n",
    "\n",
    "load_dotenv()\n",
    "torch.cuda.empty_cache()\n",
    "torch.backends.cudnn.benchmark = True\n",
    "torch.cuda.reset_peak_memory_stats()\n",
    "\n",
    "print(\"This model is training on\",DEVICE)"
   ]
  },
  {
   "cell_type": "markdown",
   "metadata": {},
   "source": [
    "## data processing\n",
    "\n",
    "- create label maps\n",
    "- process json files and split into test data and train data(only need to run once)\n",
    "  - 7:3 ratio"
   ]
  },
  {
   "cell_type": "code",
   "execution_count": 2,
   "metadata": {},
   "outputs": [],
   "source": [
    "# label maps\n",
    "id2label = {0: \"Normal\", 1: \"Suspicious\"}\n",
    "label2id = {v:k for k,v in id2label.items()}"
   ]
  },
  {
   "cell_type": "code",
   "execution_count": 67,
   "metadata": {},
   "outputs": [],
   "source": [
    "# data paths\n",
    "normal_temp_file = os.path.join(DATA_PATH, \"temp_normal.json\")\n",
    "sus_temp_file = os.path.join(DATA_PATH, \"temp_sus.json\")\n",
    "test_data_file = os.path.join(DATA_PATH, TEST_DATA)\n",
    "train_data_file = os.path.join(DATA_PATH, TRAIN_DATA)"
   ]
  },
  {
   "cell_type": "code",
   "execution_count": 101,
   "metadata": {},
   "outputs": [],
   "source": [
    "# omm data\n",
    "normal_data = {\"1pass.json\",\"2pass.json\",\"3pass.json\",\"4pass.json\",\"5pass.json\",\"6pass.json\",\"7pass.json\",\"8pass.json\"}\n",
    "sus_data = {\"1output.json\",\"2output.json\",\"3output.json\",\"4output.json\",\"5output.json\",\"6output.json\",\"7output.json\",\"8output.json\"}\n",
    "\n",
    "def read_json_files(file_set, path):\n",
    "    data={}\n",
    "    for file in file_set:\n",
    "        file_path = os.path.join(path, file)\n",
    "        if os.path.exists(file_path):\n",
    "            with open(file_path, \"r\", encoding=\"utf-8\") as f:\n",
    "                try:\n",
    "                    file_content = json.load(f)\n",
    "                    data.update(file_content)\n",
    "                except json.JSONDecodeError:\n",
    "                    print(f\"Error reading {file}: Invalid JSON format\")\n",
    "        else:\n",
    "            print(f\"Warning: {file} not found\")\n",
    "    return data\n",
    "\n",
    "normal_data = read_json_files(normal_data, os.path.join(DATA_PATH, OMM_PATH))\n",
    "sus_data = read_json_files(sus_data, os.path.join(DATA_PATH, OMM_PATH))\n",
    "\n",
    "with open(normal_temp_file, \"w\", encoding=\"utf-8\") as f:\n",
    "    json.dump(normal_data, f, indent=4)\n",
    "with open(sus_temp_file, \"w\", encoding=\"utf-8\") as f:\n",
    "    json.dump(sus_data, f, indent=4)\n",
    "\n",
    "open(train_data_file, \"w\", encoding=\"utf-8\")\n",
    "\n",
    "def save_events_to_jsonl(input_file, output_file, label):\n",
    "\n",
    "    with open(input_file, \"r\", encoding=\"utf-8\") as file:\n",
    "        data = json.load(file)\n",
    "\n",
    "    with open(output_file, \"a\", encoding=\"utf-8\") as f:\n",
    "        for _, event_data in data.items():\n",
    "            event_source = event_data[\"_source\"]\n",
    "            event_source[\"label\"] = label\n",
    "            f.write(json.dumps(event_source) + \"\\n\")\n",
    "\n",
    "save_events_to_jsonl(normal_temp_file, train_data_file, label2id[\"Normal\"]) \n",
    "save_events_to_jsonl(sus_temp_file, train_data_file, label2id[\"Suspicious\"])\n",
    "\n",
    "with open(train_data_file, \"r\", encoding=\"utf-8\") as file:\n",
    "    full_data = [json.loads(line) for line in file]\n",
    "\n",
    "train_data, test_data = train_test_split(full_data, test_size=0.3, shuffle=True, random_state=RANDOM_SEED)\n",
    "\n",
    "def flatten_data(y):\n",
    "    out = {}\n",
    "\n",
    "    def flatten(x, name=''):\n",
    "        if isinstance(x, dict):\n",
    "            for key, value in x.items():\n",
    "                flatten(value, name + key + '_')\n",
    "        elif isinstance(x, list):\n",
    "            for i, value in enumerate(x):\n",
    "                flatten(value, name + str(i) + '_')\n",
    "        else:\n",
    "            out[name[:-1]] = str(x)  # 🔹 Convert all values to string\n",
    "\n",
    "    flatten(y)\n",
    "    return out\n",
    "\n",
    "\n",
    "train_data = [flatten_data(entry) for entry in train_data]\n",
    "test_data = [flatten_data(entry) for entry in test_data]\n",
    "\n",
    "def get_all_columns(data_list):\n",
    "    \"\"\"Finds all unique keys in a dataset.\"\"\"\n",
    "    all_keys = set()\n",
    "    for entry in data_list:\n",
    "        all_keys.update(entry.keys())\n",
    "    return all_keys\n",
    "\n",
    "# Collect all unique columns from train & test data\n",
    "train_columns = get_all_columns(train_data)\n",
    "test_columns = get_all_columns(test_data)\n",
    "all_columns = train_columns.union(test_columns)  # Merge both sets\n",
    "\n",
    "def standardize_entry(entry, all_columns):\n",
    "    \"\"\"Ensures all rows have the same columns.\"\"\"\n",
    "    standardized_entry = {col: str(entry.get(col, \" \")) for col in all_columns}  # Convert everything to string\n",
    "    return standardized_entry\n",
    "\n",
    "# Apply standardization\n",
    "train_data = [standardize_entry(entry, all_columns) for entry in train_data]\n",
    "test_data = [standardize_entry(entry, all_columns) for entry in test_data]\n",
    "\n",
    "with open(test_data_file, \"w\", encoding=\"utf-8\") as file:\n",
    "    for entry in test_data:\n",
    "        \n",
    "        file.write(json.dumps(entry) + \"\\n\")\n",
    "\n",
    "with open(train_data_file, \"w\", encoding=\"utf-8\") as file:\n",
    "    for entry in train_data:\n",
    "        \n",
    "        file.write(json.dumps(entry) + \"\\n\")\n",
    "\n",
    "temp_norm_path = Path(normal_temp_file)\n",
    "temp_sus_path = Path(sus_temp_file)\n",
    "\n",
    "if temp_norm_path.exists():\n",
    "    temp_norm_path.unlink()\n",
    "if temp_sus_path.exists():\n",
    "    temp_sus_path.unlink()"
   ]
  },
  {
   "cell_type": "code",
   "execution_count": 86,
   "metadata": {},
   "outputs": [
    {
     "name": "stdout",
     "output_type": "stream",
     "text": [
      "Detected Field Types:\n",
      "@timestamp: {'str'}\n",
      "agent: {'dict'}\n",
      "data_stream: {'dict'}\n",
      "ecs: {'dict'}\n",
      "elastic: {'dict'}\n",
      "event: {'dict'}\n",
      "host: {'dict'}\n",
      "message: {'str'}\n",
      "process: {'dict'}\n",
      "registry: {'dict'}\n",
      "user: {'dict'}\n",
      "label: {'str'}\n",
      "file: {'dict'}\n",
      "group: {'dict'}\n",
      "destination: {'dict'}\n",
      "elastic_agent: {'dict'}\n",
      "flow: {'dict'}\n",
      "network: {'dict'}\n",
      "source: {'dict'}\n",
      "type: {'str'}\n",
      "dll: {'dict'}\n",
      "dns: {'dict'}\n",
      "cloud: {'dict'}\n",
      "input: {'dict'}\n",
      "log: {'dict'}\n",
      "powershell: {'dict'}\n",
      "winlog: {'dict'}\n",
      "client: {'dict'}\n",
      "method: {'str'}\n",
      "query: {'str'}\n",
      "related: {'dict'}\n",
      "resource: {'str'}\n",
      "server: {'dict'}\n",
      "status: {'str'}\n",
      "tls: {'dict'}\n",
      "Effective_process: {'dict'}\n",
      "icmp: {'dict'}\n",
      "path: {'str'}\n",
      "system: {'dict'}\n",
      "tags: {'list'}\n",
      "_temp: {'dict'}\n",
      "error: {'dict'}\n"
     ]
    }
   ],
   "source": [
    "def detect_schema_issues(input_file):\n",
    "    \"\"\"Detects inconsistent data types in a JSONL file\"\"\"\n",
    "    field_types = {}\n",
    "\n",
    "    with open(input_file, \"r\", encoding=\"utf-8\") as infile:\n",
    "        for line_number, line in enumerate(infile, start=1):\n",
    "            try:\n",
    "                data = json.loads(line)\n",
    "\n",
    "                for key, value in data.items():\n",
    "                    value_type = type(value).__name__\n",
    "\n",
    "                    if key not in field_types:\n",
    "                        field_types[key] = set()\n",
    "                    field_types[key].add(value_type)\n",
    "\n",
    "            except json.JSONDecodeError:\n",
    "                print(f\"Skipping invalid JSON at line {line_number}\")\n",
    "\n",
    "    print(\"Detected Field Types:\")\n",
    "    for field, types in field_types.items():\n",
    "        print(f\"{field}: {types}\")\n",
    "\n",
    "# Run schema detection\n",
    "detect_schema_issues(train_data_file)"
   ]
  },
  {
   "cell_type": "markdown",
   "metadata": {},
   "source": [
    "## load dataset"
   ]
  },
  {
   "cell_type": "code",
   "execution_count": 102,
   "metadata": {},
   "outputs": [
    {
     "data": {
      "application/vnd.jupyter.widget-view+json": {
       "model_id": "ef4d0db2aa894a69918cf437fd64bb21",
       "version_major": 2,
       "version_minor": 0
      },
      "text/plain": [
       "Generating train split: 0 examples [00:00, ? examples/s]"
      ]
     },
     "metadata": {},
     "output_type": "display_data"
    },
    {
     "data": {
      "application/vnd.jupyter.widget-view+json": {
       "model_id": "f26fb342dbe5491ebcf406ef8323765f",
       "version_major": 2,
       "version_minor": 0
      },
      "text/plain": [
       "Generating test split: 0 examples [00:00, ? examples/s]"
      ]
     },
     "metadata": {},
     "output_type": "display_data"
    },
    {
     "data": {
      "text/plain": [
       "DatasetDict({\n",
       "    train: Dataset({\n",
       "        features: ['process_Ext_code_signature_2_subject_name', 'registry_data_strings_3', 'user_domain', 'winlog_event_data_Payload_0', 'source_ip', 'dns_answers_1_ttl', 'event_category', 'process_args_16', 'process_group_leader_entity_id', 'tls_detailed_client_hello_extensions_supported_groups_3', 'tls_client_supported_ciphers_14', 'process_entry_leader_working_directory', 'dns_answers_3_name', 'process_args_3', 'process_parent_supplemental_groups_2_id', 'tls_detailed_client_hello_extensions_signature_algorithms_4', 'powershell_file_script_block_id', 'process_Ext_effective_parent_entity_id', 'flow_final', 'dll_Ext_code_signature_1_subject_name', 'registry_data_strings_17', 'winlog_activity_id', 'tls_client_server_name', 'tls_detailed_client_hello_supported_compression_methods_0', 'winlog_user_identifier', 'dns_question_registered_domain', 'dll_Ext_code_signature_0_trusted', 'related_ip_6', 'file_Ext_windows_zone_identifier', 'process_code_signature_exists', 'winlog_user_data_ResponseTime', 'dll_Ext_relative_file_name_modify_time', 'process_executable', 'process_parent_args_1', 'winlog_event_data_TargetUserSid', 'label', 'server_geo_location_lon', 'process_group_leader_supplemental_groups_3_id', 'winlog_event_data_PrivilegeList_2', 'winlog_event_data_PrivilegeList_10', 'process_parent_supplemental_groups_0_id', 'dns_answers_7_data', 'process_Ext_relative_file_name_modify_time', 'event_outcome', 'process_session_leader_group_id', 'dns_op_code', 'process_hash_md5', 'winlog_event_data_param6', 'winlog_event_data_param3', 'process_previous_0_executable', 'process_args_4', 'type', 'tls_detailed_client_hello_extensions__unparsed__1', 'process_parent_group_id', 'process_parent_code_signature_exists', 'winlog_logon_type', 'Effective_process_name', 'tls_detailed_client_hello_extensions__unparsed__2', 'process_working_directory', 'process_Ext_token_elevation_level', 'data_stream_type', 'process_Ext_session_info_id', 'dns_answers_5_class', 'winlog_event_data_Status', 'event_module', 'process_group_leader_args_4', 'winlog_provider_guid', 'winlog_user_data_RmSessionId', 'process_group_leader_executable', 'server_geo_country_iso_code', 'tls_client_supported_ciphers_0', 'group_id', 'tls_client_supported_ciphers_10', 'dll_hash_sha256', 'process_io_total_bytes_skipped', 'tls_client_supported_ciphers_17', 'registry_data_strings_5', 'powershell_command_value', 'cloud_account_id', 'resource', 'winlog_event_data_LogonGuid', 'process_entry_leader_tty_char_device_minor', 'process_previous_0_args_count', 'process_entry_leader_supplemental_groups_9_name', 'data_stream_namespace', 'dns_answers_4_name', 'winlog_event_data_TransmittedServices', 'event_kind', 'winlog_event_data_SubjectDomainName', 'related_ip_7', 'process_Ext_code_signature_0_exists', 'process_Ext_token_security_attributes_2', 'winlog_event_data_KeyType', 'dll_Ext_code_signature_0_exists', 'winlog_event_data_Payload_3', 'winlog_user_data_FullPath', 'process_entry_leader_supplemental_groups_5_name', 'tls_client_supported_ciphers_4', 'process_parent_args_2', 'winlog_record_id', 'query', 'event_sequence', 'process_Ext_token_security_attributes_0', 'related_user_1', 'host_ip_0', 'dns_resolved_ip_3', 'winlog_event_id', 'dns_question_name', 'winlog_event_data_TargetOutboundDomainName', 'registry_data_strings_0', 'dns_flags_authoritative', 'host_architecture', 'process_previous_0_args_0', 'dll_Ext_code_signature_2_exists', 'host_ip_3', 'dns_flags_recursion_available', 'process_Ext_session_info_user_flags_1', 'winlog_event_data_TargetLinkedLogonId', 'winlog_event_data_ProviderName', 'process_entry_leader_supplemental_groups_8_name', 'host_os_build', 'process_real_user_name', 'winlog_user_domain', 'file_extension', 'process_Ext_trusted', 'process_code_signature_subject_name', 'tls_detailed_client_hello_extensions_signature_algorithms_7', 'process_code_signature_signing_id', 'process_interactive', 'process_parent_supplemental_groups_8_id', 'message', 'process_entry_leader_parent_start', 'flow_id', 'process_args_17', 'winlog_user_data_RebootReasons', 'input_type', 'tls_detailed_client_hello_extensions_status_request_responder_id_list_length', 'process_entry_leader_supplemental_groups_4_name', 'tls_detailed_client_hello_extensions_supported_groups_0', 'winlog_event_data_PrivilegeList_1', 'winlog_event_data_Binary', 'user_target_domain', 'powershell_command_invocation_details_7_value', 'powershell_file_script_block_text', 'process_parent_args_7', 'dll_pe_original_file_name', 'powershell_engine_version', 'tags_0', 'network_type', 'source_packets', 'source_domain', 'powershell_command_invocation_details_1_value', 'process_group_leader_supplemental_groups_4_id', 'winlog_user_data_AppType', 'server_geo_city_name', 'registry_data_strings_23', 'tls_detailed_client_hello_extensions_status_request_request_extensions', 'event_code', 'process_tty_columns', 'process_Ext_code_signature_0_status', 'dns_answers_3_type', 'status', 'tls_detailed_client_hello_session_id', 'host_ip_7', 'process_Ext_code_signature_1_trusted', 'process_Ext_ancestry_3', 'process_entry_leader_pid', 'process_group_leader_supplemental_groups_5_name', 'process_session_leader_tty_char_device_major', 'winlog_event_data_ScriptName', 'registry_data_strings_1', 'event_timezone', 'dns_answers_7_ttl', 'tls_detailed_client_hello_extensions_status_request_type', 'related_ip_4', 'process_parent_name', 'registry_data_strings_16', 'host_ip_1', 'process_parent_tty_char_device_major', 'winlog_event_data_LmPackageName', 'process_entry_leader_args_count', 'process_group_leader_supplemental_groups_2_id', 'tls_client_supported_ciphers_7', '_temp_user_parts_1', 'process_Ext_token_security_attributes_1', 'process_session_leader_real_user_id', 'winlog_event_data_CallerProcessId', 'process_group_leader_same_as_process', 'process_Ext_code_signature_1_subject_name', 'dns_resolved_ip_1', 'tls_detailed_client_hello_extensions_signature_algorithms_10', 'event_action', 'event_created', 'dns_answers_2_name', 'tls_client_supported_ciphers_9', 'related_hosts_0', 'Effective_process_executable', 'process_session_leader_args_3', 'client_port', 'dll_code_signature_status', 'source_geo_continent_name', 'process_group_leader_supplemental_groups_0_id', 'registry_data_strings_12', 'powershell_command_invocation_details_13_value', 'process_parent_supplemental_groups_5_name', 'dns_id', 'process_parent_supplemental_groups_7_name', 'agent_name', 'destination_ip', 'process_args_8', 'winlog_event_data_IpAddress', 'tls_detailed_client_hello_random', 'tls_detailed_client_hello_extensions_supported_groups_2', 'registry_data_strings_18', 'process_parent_start', 'log_level', 'destination_geo_country_name', 'process_session_leader_group_name', 'dns_answers_2_class', 'process_parent_entity_id', 'tls_detailed_client_hello_extensions_signature_algorithms_8', 'process_group_leader_real_group_id', 'host_name', 'dll_pe_file_version', 'user_target_name', 'winlog_event_data_Payload_2', 'process_parent_args_count', 'path', 'process_parent_supplemental_groups_6_name', 'process_parent_thread_Ext_call_stack_contains_unbacked', 'tls_client_supported_ciphers_6', 'server_geo_location_lat', 'tls_detailed_client_hello_extensions_signature_algorithms_1', 'winlog_event_data_CountOfCredentialsReturned', 'process_Ext_ancestry_5', 'tls_detailed_client_hello_extensions_supported_versions_0', 'user_id', 'winlog_event_data_HiveNameLength', 'server_bytes', 'agent_ephemeral_id', 'file_Ext_original_path', 'powershell_command_invocation_details_3_related_command', 'cloud_service_name', 'process_group_leader_user_id', 'process_exit_code', 'tls_detailed_server_hello_extensions_supported_versions', 'process_session_leader_pid', 'process_group_leader_supplemental_groups_7_name', 'tls_detailed_client_hello_extensions_supported_versions_1', 'group_Ext_real_id', 'process_group_leader_tty_char_device_major', 'process_args_0', 'process_args_count', 'tls_detailed_client_certificate_requested', 'process_Ext_ancestry_6', 'process_Ext_session_info_authentication_package', 'process_io_total_bytes_captured', 'process_io_max_bytes_per_process_exceeded', 'error_message_0', 'dll_Ext_code_signature_0_subject_name', 'process_session_leader_supplemental_groups_7_id', 'powershell_process_executable_version', 'host_os_type', 'tls_detailed_client_hello_extensions_session_ticket', 'log_offset', 'process_args_2', 'process_io_text', 'file_size', 'powershell_command_invocation_details_5_value', 'dll_Ext_size', 'tls_client_supported_ciphers_5', 'process_end', 'dns_header_flags_0', 'source_bytes', 'destination_geo_region_iso_code', 'file_Ext_monotonic_id', 'process_group_leader_supplemental_groups_2_name', 'server_geo_region_iso_code', 'network_community_id', 'source_as_organization_name', 'process_entity_id', 'process_parent_real_user_name', 'winlog_event_data_AuthenticationPackageName', 'winlog_event_data_ImpersonationLevel', 'process_parent_supplemental_groups_9_id', 'event_type_0', 'dns_answers_2_data', 'dns_flags_truncated_response', 'process_entry_leader_real_user_id', 'process_group_leader_supplemental_groups_1_id', 'process_entry_leader_supplemental_groups_1_name', 'process_parent_supplemental_groups_3_id', 'dll_Ext_relative_file_creation_time', 'winlog_event_data_Type', 'dns_answers_0_data', 'host_hostname', 'process_Ext_ancestry_7', '_temp_details_0_value', 'tls_detailed_client_hello_extensions_signature_algorithms_9', 'winlog_event_data_ContextInfo', 'powershell_command_invocation_details_14_value', 'process_args_5', 'event_id', 'related_ip_0', 'process_Ext_effective_parent_executable', 'process_entry_leader_same_as_process', 'registry_data_strings_7', 'process_Ext_code_signature_0_trusted', 'process_entry_leader_real_group_name', 'tls_client_supported_ciphers_13', 'process_Ext_effective_parent_name', 'process_session_leader_supplemental_groups_5_id', 'file_directory', 'tls_detailed_client_hello_extensions_signature_algorithms_3', 'process_Ext_ancestry_10', 'winlog_user_data_DisplayName', 'tls_detailed_client_hello_extensions_application_layer_protocol_negotiation_0', 'dns_answers_3_ttl', 'tls_detailed_client_hello_extensions_supported_groups_1', 'powershell_pipeline_id', 'registry_data_strings_9', 'related_ip_2', 'tls_version', 'dns_question_etld_plus_one', 'process_entry_leader_supplemental_groups_2_id', 'winlog_process_thread_id', 'process_entry_leader_supplemental_groups_7_id', 'process_args_18', 'dns_answers_5_ttl', 'process_session_leader_real_group_id', 'dns_answers_0_type', 'process_entry_leader_start', '_temp_details_1_value', 'file_Ext_original_name', 'process_tty_rows', 'process_entry_leader_user_id', 'dns_answers_1_type', 'dns_header_flags_1', 'method', 'process_hash_sha1', 'network_transport', 'dns_resolved_ip_5', 'winlog_event_data_PrivilegeList_7', 'process_parent_supplemental_groups_6_id', 'process_parent_args_5', 'winlog_event_data_IpPort', 'source_geo_region_iso_code', 'process_session_leader_supplemental_groups_9_id', 'destination_as_organization_name', 'process_session_leader_same_as_process', 'winlog_event_data_PrivilegeList_0', 'file_inode', 'process_entry_leader_supplemental_groups_8_id', 'process_parent_supplemental_groups_2_name', 'winlog_event_data_TargetOutboundUserName', 'powershell_engine_new_state', 'system_auth_ssh_event', 'group_name', 'network_direction', 'source_geo_location_lon', 'host_os_platform', 'winlog_event_data_LogonProcessName', 'winlog_event_data_FailureReason', 'process_parent_args_3', 'process_Ext_ancestry_1', 'dns_answers_0_ttl', 'dns_resolved_ip_4', 'registry_data_strings_15', 'process_entry_leader_executable', 'tls_detailed_client_hello_extensions_supported_versions_2', 'process_pe_original_file_name', 'tls_detailed_version', 'dns_answers_2_ttl', 'server_geo_country_name', 'source_geo_location_lat', 'process_command_line', 'tls_detailed_client_hello_version', 'dll_hash_md5', 'winlog_event_data_TargetDomainName', 'dns_response_code', 'dns_type', 'process_Ext_token_security_attributes_4', 'user_name', 'process_group_id', 'dns_resolved_ip_0', 'process_args_7', 'registry_data_strings_4', 'cloud_instance_id', 'winlog_user_type', 'winlog_user_data_AppVersion', 'process_parent_executable', 'process_parent_real_user_id', 'destination_geo_continent_name', 'process_group_leader_group_id', 'process_code_signature_status', 'process_code_signature_trusted', 'process_session_leader_args_5', 'cloud_image_id', 'process_previous_0_args_1', 'winlog_event_data_LogonType', 'process_parent_tty_char_device_minor', 'host_ip_5', 'tls_detailed_server_hello_version', 'process_entry_leader_tty_char_device_major', 'process_tty_char_device_minor', 'registry_path', 'process_Ext_effective_parent_pid', 'log_file_path', 'process_entry_leader_supplemental_groups_3_id', 'process_Ext_code_signature_2_status', 'tls_detailed_client_hello_extensions_signature_algorithms_5', 'destination_as_number', 'dns_answers_3_data', 'process_Ext_protection', 'process_session_leader_real_group_name', 'process_session_leader_tty_char_device_minor', 'process_entry_leader_real_group_id', 'process_parent_args_4', 'process_args_11', 'tls_detailed_client_hello_extensions_application_layer_protocol_negotiation_1', 'winlog_event_data_PrivilegeList_5', 'winlog_event_data_SequenceNumber', 'registry_hive', 'process_entry_leader_parent_pid', 'source_address', 'powershell_provider_name', 'process_real_group_name', 'process_Ext_mitigation_policies_2', 'server_geo_region_name', 'dns_flags_authentic_data', 'cloud_machine_type', 'winlog_event_data_VirtualAccount', 'process_parent_supplemental_groups_7_id', 'tls_detailed_client_hello_extensions__unparsed__6', 'winlog_event_data_PrivilegeList_9', 'process_parent_code_signature_team_id', 'icmp_version', 'process_parent_user_name', 'registry_data_strings_10', 'process_hash_sha256', 'process_Ext_code_signature_1_exists', 'process_entry_leader_supplemental_groups_0_name', 'winlog_channel', 'process_parent_working_directory', 'process_parent_code_signature_trusted', 'process_group_leader_supplemental_groups_3_name', 'client_bytes', 'winlog_event_data_param7', 'winlog_event_data_PrivilegeList_3', 'related_ip_1', 'process_group_leader_working_directory', 'winlog_event_data_TargetLogonId', 'server_ip', 'process_group_leader_real_user_id', 'process_parent_code_signature_subject_name', 'tls_client_supported_ciphers_3', 'process_group_leader_interactive', 'process_group_leader_supplemental_groups_9_name', 'process_group_leader_args_3', 'registry_value', 'user_target_id', 'winlog_event_data_TargetUserName', 'process_session_leader_supplemental_groups_0_name', 'process_session_leader_executable', 'process_Ext_ancestry_11', 'destination_geo_location_lat', 'process_group_name', 'process_parent_supplemental_groups_8_name', 'powershell_command_invocation_details_1_type', 'process_group_leader_supplemental_groups_5_id', 'winlog_event_data_param2', 'process_group_leader_group_name', 'process_group_leader_supplemental_groups_1_name', 'process_args_13', 'dns_answers_4_class', 'icmp_request_code', 'powershell_sequence', 'process_session_leader_user_id', 'process_user_name', 'process_Ext_authentication_id', 'dns_answers_count', 'dns_flags_checking_disabled', 'winlog_keywords_1', 'powershell_id', 'file_name', 'process_entry_leader_entity_id', 'process_entry_leader_entry_meta_source_ip', 'winlog_event_data_PrivilegeList_8', 'winlog_user_data_Status', 'tls_detailed_server_hello_random', 'process_args_10', 'event_type_1', 'event_provider', '_temp_details_1_related_command', 'tls_client_supported_ciphers_1', 'destination_domain', 'process_args_15', 'process_Ext_session_info_user_flags_0', 'data_stream_dataset', 'process_user_id', 'winlog_event_data_updateRevisionNumber', 'winlog_logon_failure_reason', 'winlog_event_data_ClientCreationTime', 'tls_client_supported_ciphers_16', 'process_entry_leader_args_1', 'process_entry_leader_supplemental_groups_7_name', 'winlog_event_data_KeyName', 'process_args_1', 'dns_additionals_count', 'process_name', 'winlog_event_data_ClientProcessId', 'process_parent_supplemental_groups_0_name', 'tls_cipher', 'winlog_event_data_AlgorithmName', 'group_domain', 'powershell_command_invocation_details_2_name', '_temp_user_parts_0', 'related_hash_0', 'winlog_user_data_Reason', 'event_dataset', 'process_session_leader_working_directory', 'tls_client_supported_ciphers_19', 'host_ip_4', 'winlog_user_data_AppName', 'winlog_event_data_Operation', 'winlog_opcode', 'dns_answers_1_data', 'process_parent_args_9', 'dns_answers_5_type', 'dll_code_signature_exists', 'winlog_event_data_CallerProcessName', 'process_entry_leader_interactive', 'dns_answers_5_name', 'process_parent_group_name', 'process_parent_supplemental_groups_3_name', 'dll_Ext_code_signature_2_status', 'process_args_6', 'process_pe_imphash', 'powershell_command_invocation_details_2_type', 'process_group_leader_real_group_name', 'powershell_command_invocation_details_9_value', 'winlog_event_data_param8', 'dns_answers_6_ttl', 'tls_detailed_client_hello_extensions__unparsed__3', 'process_entry_leader_group_name', 'winlog_event_data_param5', 'process_entry_leader_entry_meta_type', 'winlog_event_data_param1', 'winlog_event_data_KeyLength', 'process_parent_code_signature_status', 'process_session_leader_supplemental_groups_4_name', 'process_Ext_token_integrity_level_name', 'dns_answers_3_class', 'source_as_number', 'powershell_engine_previous_state', 'process_tty_char_device_major', 'dll_Ext_code_signature_1_trusted', 'process_Ext_code_signature_2_trusted', 'process_group_leader_supplemental_groups_0_name', 'destination_mac', 'destination_port', 'winlog_event_data_TargetSid', 'source_geo_region_name', 'dns_question_top_level_domain', 'winlog_user_data_xml_name', 'process_real_user_id', 'process_parent_user_id', 'dns_answers_6_data', 'source_geo_country_name', 'winlog_event_data_PrivilegeList_4', 'server_port', 'powershell_command_invocation_details_1_related_command', 'destination_bytes', 'winlog_event_data_User', 'process_title', '_temp_details_1_name', 'host_mac_0', 'powershell_provider_new_state', 'powershell_command_invocation_details_4_value', 'winlog_user_data_Pid', 'process_args_14', 'host_ip_2', 'tls_version_protocol', 'winlog_event_data_TSId', 'process_session_leader_args_count', 'client_ip', 'related_ip_3', '_temp_connected_user_parts_0', 'winlog_logon_id', 'tls_resumed', 'process_group_leader_supplemental_groups_9_id', 'dll_Ext_code_signature_1_exists', 'process_entry_leader_supplemental_groups_10_id', 'winlog_task', 'process_group_leader_args_5', 'dns_answers_7_name', 'process_parent_supplemental_groups_9_name', 'host_containerized', 'dns_Ext_options', 'icmp_request_message', 'dns_question_class', 'event_category_0', 'dns_answers_0_name', 'winlog_event_data_DirtyPages', 'process_group_leader_start', 'winlog_provider_name', 'process_Ext_code_signature_1_status', 'tls_detailed_client_hello_extensions_server_name_indication_0', 'dll_name', 'process_Ext_mitigation_policies_1', 'dns_answers_6_class', 'process_args_12', 'dns_answers_7_type', 'process_Ext_token_security_attributes_3', 'dns_answers_4_data', 'dns_answers_5_data', 'host_id', 'event_type', 'source_geo_country_iso_code', 'process_group_leader_args_1', 'process_Ext_session_info_relative_password_age', 'process_parent_supplemental_groups_10_id', 'winlog_user_data_TSSessionId', 'destination_geo_region_name', 'event_ingested', 'process_entry_leader_supplemental_groups_0_id', 'process_Ext_ancestry_2', 'process_session_leader_supplemental_groups_6_name', 'dns_answers_4_ttl', 'tls_established', 'registry_data_strings_19', 'process_parent_supplemental_groups_5_id', 'process_parent_real_group_name', 'winlog_event_data_SubjectUserName', 'process_session_leader_args_4', 'process_session_leader_interactive', 'process_parent_args_6', 'tls_client_supported_ciphers_11', 'process_parent_code_signature_signing_id', 'icmp_request_type', 'event_agent_id_status', 'winlog_event_data_updateTitle', 'process_parent_supplemental_groups_10_name', 'tls_detailed_client_hello_extensions__unparsed__4', 'process_session_leader_supplemental_groups_10_id', 'file_Ext_header_bytes', 'process_group_leader_args_count', 'process_session_leader_supplemental_groups_7_name', 'winlog_logon_failure_sub_status', 'process_group_leader_supplemental_groups_7_id', 'tls_client_supported_ciphers_15', 'process_session_leader_supplemental_groups_5_name', 'source_geo_city_name', 'dll_Ext_code_signature_2_subject_name', 'cloud_region', 'process_session_leader_supplemental_groups_6_id', 'tls_client_supported_ciphers_18', 'winlog_event_data_Severity', '_temp_details_1_type', 'server_as_organization_name', 'process_group_leader_supplemental_groups_4_name', 'server_domain', 'process_session_leader_supplemental_groups_8_id', 'process_group_leader_tty_char_device_minor', 'tls_client_supported_ciphers_2', 'process_Ext_session_info_user_flags_2', 'tls_detailed_client_hello_extensions_ec_points_formats_0', 'process_parent_real_group_id', 'server_as_number', 'host_os_full', 'tls_client_supported_ciphers_12', 'dll_path', 'process_entry_leader_group_id', 'winlog_event_data_KeyFilePath', 'process_code_signature_team_id', 'registry_data_type', 'process_session_leader_supplemental_groups_1_name', 'powershell_command_invocation_details_12_value', 'winlog_keywords_0', 'dns_question_subdomain', 'winlog_event_data_TargetName', 'dns_answers_7_class', 'process_session_leader_start', 'process_group_leader_supplemental_groups_10_name', 'process_real_group_id', 'process_entry_leader_args_0', 'powershell_command_invocation_details_0_related_command', 'process_entry_leader_supplemental_groups_6_id', 'powershell_command_invocation_details_2_value', 'process_entry_leader_supplemental_groups_6_name', 'ecs_version', 'process_session_leader_args_0', 'registry_data_strings_14', 'winlog_version', 'process_group_leader_pid', 'user_Ext_real_id', 'tls_detailed_server_hello_session_id', 'process_parent_supplemental_groups_4_id', 'process_group_leader_supplemental_groups_8_name', 'dns_answers_1_name', 'process_entry_leader_supplemental_groups_5_id', 'powershell_command_name', 'powershell_command_invocation_details_0_value', 'related_ip_9', 'dll_hash_sha1', 'process_session_leader_supplemental_groups_2_id', 'registry_data_strings_2', 'powershell_command_invocation_details_15_value', 'tls_detailed_client_hello_extensions_supported_versions_3', 'winlog_user_data_UTCStartTime', 'destination_geo_location_lon', 'process_session_leader_args_2', 'powershell_command_invocation_details_2_related_command', 'dns_answers_1_class', 'process_session_leader_name', 'winlog_computer_name', 'process_previous_0_args_2', 'process_entry_leader_parent_entity_id', 'elastic_agent_id', 'powershell_command_invocation_details_3_type', 'agent_id', 'process_session_leader_args_1', '_temp_details_0_type', 'powershell_command_invocation_details_3_name', 'event_start', 'Effective_process_entity_id', 'winlog_event_data_SubStatus', 'winlog_api', 'process_thread_id', 'host_ip_8', 'host_os_family', 'process_session_leader_user_name', 'registry_data_strings_6', 'process_entry_leader_real_user_name', 'dns_Ext_status', 'cloud_instance_name', 'powershell_command_type', 'winlog_event_data_ConnectedUser', 'host_os_version', 'process_entry_leader_supplemental_groups_4_id', 'registry_data_strings_13', 'process_entry_leader_supplemental_groups_9_id', 'related_ip_8', 'file_Ext_entropy', 'process_session_leader_supplemental_groups_0_id', 'winlog_event_data_ReadOperation', 'winlog_event_data_param4', 'powershell_command_invocation_details_10_value', 'file_path', 'network_destination_port', 'powershell_total', 'process_parent_pid', 'destination_geo_city_name', 'process_Ext_mitigation_policies_0', 'elastic_agent_snapshot', 'process_group_leader_supplemental_groups_10_id', 'winlog_user_data_nApplications', 'winlog_event_data_Payload_1', 'process_session_leader_real_user_name', 'process_Ext_relative_file_creation_time', 'process_group_leader_supplemental_groups_6_id', 'event_category_1', 'process_Ext_code_signature_2_exists', '@timestamp', 'process_group_leader_supplemental_groups_8_id', 'tls_detailed_client_hello_extensions_signature_algorithms_6', 'process_parent_command_line', 'source_port', 'network_packets', 'winlog_event_data_SubjectLogonId', 'cloud_provider', 'process_parent_interactive', 'winlog_event_data_param9', 'dns_answers_6_name', 'server_geo_continent_name', 'winlog_event_data_SubjectUserSid', 'process_start', 'destination_packets', 'tls_detailed_client_hello_extensions__unparsed__0', 'process_pid', 'registry_data_bytes', 'network_protocol', 'winlog_event_data_ElevatedToken', 'dll_code_signature_subject_name', 'host_ip_9', 'process_group_leader_args_0', 'process_parent_supplemental_groups_1_id', 'process_session_leader_supplemental_groups_3_id', 'process_Ext_ancestry_9', 'network_bytes', 'registry_data_strings_22', 'process_args_19', 'process_entry_leader_supplemental_groups_3_name', 'dns_flags_recursion_desired', 'dns_answers_4_type', 'dns_resolved_ip_7', 'process_session_leader_supplemental_groups_4_id', 'winlog_event_data_ReturnCode', 'process_entry_leader_supplemental_groups_10_name', 'process_parent_supplemental_groups_4_name', 'winlog_user_name', 'dll_code_signature_trusted', 'tls_detailed_client_hello_extensions_signature_algorithms_0', 'host_os_codename', 'dll_pe_imphash', 'dll_Ext_code_signature_0_status', 'process_group_leader_name', 'user_Ext_real_name', 'process_entry_leader_supplemental_groups_2_name', 'winlog_event_data_HiveName', 'winlog_event_data_RestrictedAdminMode', 'dns_question_type', 'dns_resolved_ip_6', 'winlog_event_data_updateGuid', 'dns_authorities_count', 'process_Ext_ancestry_4', 'elastic_agent_version', 'winlog_event_data_KeysUpdated', 'event_end', 'powershell_command_invocation_details_0_type', 'registry_data_strings_8', 'process_session_leader_supplemental_groups_10_name', 'process_Ext_ancestry_8', 'winlog_event_data_PrivilegeList_6', 'powershell_command_invocation_details_8_value', 'related_ip_5', 'group_Ext_real_name', 'tls_detailed_server_hello_extensions__unparsed__0', 'cloud_availability_zone', 'powershell_command_invocation_details_11_value', 'process_args_9', 'winlog_event_data_ProcessCreationTime', 'process_entry_leader_user_name', 'process_session_leader_supplemental_groups_9_name', 'host_os_Ext_variant', 'powershell_command_invocation_details_6_value', 'registry_data_strings_20', 'process_parent_args_8', 'host_os_name', 'process_group_leader_args_2', 'process_session_leader_supplemental_groups_1_id', 'tls_detailed_client_hello_extensions_signature_algorithms_2', 'host_mac_2', 'dns_answers_2_type', 'powershell_runspace_id', 'dns_answers_0_class', 'process_group_leader_user_name', 'process_io_type', 'process_Ext_session_info_logon_type', 'tls_detailed_client_hello_extensions__unparsed__5', 'dll_Ext_code_signature_1_status', 'process_parent_args_0', 'event_duration', 'tls_detailed_server_hello_selected_compression_method', 'tls_detailed_resumption_method', 'tls_client_ja3', 'registry_data_strings_11', 'host_os_kernel', 'process_session_leader_entity_id', 'winlog_process_pid', 'process_session_leader_supplemental_groups_3_name', 'process_group_leader_args_6', 'process_entry_leader_supplemental_groups_1_id', 'dns_answers_6_type', 'process_group_leader_real_user_name', 'process_entry_leader_name', 'process_session_leader_supplemental_groups_2_name', 'powershell_command_invocation_details_1_name', 'registry_key', 'winlog_event_data_UserSid', 'process_Ext_code_signature_0_subject_name', 'process_Ext_ancestry_0', 'process_Ext_session_info_relative_logon_time', 'process_session_leader_supplemental_groups_8_name', 'destination_geo_country_iso_code', 'dns_resolved_ip_2', 'powershell_command_invocation_details_3_value', 'process_parent_supplemental_groups_1_name', 'agent_type', 'agent_version', 'registry_data_strings_21', '_temp_details_0_related_command', 'dll_Ext_code_signature_2_trusted', 'winlog_event_data_PrivilegeList_11', 'host_ip_6', 'winlog_logon_failure_status', 'Effective_process_pid', 'winlog_event_data_CommandPath', 'destination_address', 'process_session_leader_args_6', 'dll_Ext_load_index', 'host_mac_1', 'process_group_leader_supplemental_groups_6_name', 'related_user_0', 'tls_client_supported_ciphers_8', 'source_mac'],\n",
       "        num_rows: 40464\n",
       "    })\n",
       "    test: Dataset({\n",
       "        features: ['process_Ext_code_signature_2_subject_name', 'registry_data_strings_3', 'user_domain', 'winlog_event_data_Payload_0', 'source_ip', 'dns_answers_1_ttl', 'event_category', 'process_args_16', 'process_group_leader_entity_id', 'tls_detailed_client_hello_extensions_supported_groups_3', 'tls_client_supported_ciphers_14', 'process_entry_leader_working_directory', 'dns_answers_3_name', 'process_args_3', 'process_parent_supplemental_groups_2_id', 'tls_detailed_client_hello_extensions_signature_algorithms_4', 'powershell_file_script_block_id', 'process_Ext_effective_parent_entity_id', 'flow_final', 'dll_Ext_code_signature_1_subject_name', 'registry_data_strings_17', 'winlog_activity_id', 'tls_client_server_name', 'tls_detailed_client_hello_supported_compression_methods_0', 'winlog_user_identifier', 'dns_question_registered_domain', 'dll_Ext_code_signature_0_trusted', 'related_ip_6', 'file_Ext_windows_zone_identifier', 'process_code_signature_exists', 'winlog_user_data_ResponseTime', 'dll_Ext_relative_file_name_modify_time', 'process_executable', 'process_parent_args_1', 'winlog_event_data_TargetUserSid', 'label', 'server_geo_location_lon', 'process_group_leader_supplemental_groups_3_id', 'winlog_event_data_PrivilegeList_2', 'winlog_event_data_PrivilegeList_10', 'process_parent_supplemental_groups_0_id', 'dns_answers_7_data', 'process_Ext_relative_file_name_modify_time', 'event_outcome', 'process_session_leader_group_id', 'dns_op_code', 'process_hash_md5', 'winlog_event_data_param6', 'winlog_event_data_param3', 'process_previous_0_executable', 'process_args_4', 'type', 'tls_detailed_client_hello_extensions__unparsed__1', 'process_parent_group_id', 'process_parent_code_signature_exists', 'winlog_logon_type', 'Effective_process_name', 'tls_detailed_client_hello_extensions__unparsed__2', 'process_working_directory', 'process_Ext_token_elevation_level', 'data_stream_type', 'process_Ext_session_info_id', 'dns_answers_5_class', 'winlog_event_data_Status', 'event_module', 'process_group_leader_args_4', 'winlog_provider_guid', 'winlog_user_data_RmSessionId', 'process_group_leader_executable', 'server_geo_country_iso_code', 'tls_client_supported_ciphers_0', 'group_id', 'tls_client_supported_ciphers_10', 'dll_hash_sha256', 'process_io_total_bytes_skipped', 'tls_client_supported_ciphers_17', 'registry_data_strings_5', 'powershell_command_value', 'cloud_account_id', 'resource', 'winlog_event_data_LogonGuid', 'process_entry_leader_tty_char_device_minor', 'process_previous_0_args_count', 'process_entry_leader_supplemental_groups_9_name', 'data_stream_namespace', 'dns_answers_4_name', 'winlog_event_data_TransmittedServices', 'event_kind', 'winlog_event_data_SubjectDomainName', 'related_ip_7', 'process_Ext_code_signature_0_exists', 'process_Ext_token_security_attributes_2', 'winlog_event_data_KeyType', 'dll_Ext_code_signature_0_exists', 'winlog_event_data_Payload_3', 'winlog_user_data_FullPath', 'process_entry_leader_supplemental_groups_5_name', 'tls_client_supported_ciphers_4', 'process_parent_args_2', 'winlog_record_id', 'query', 'event_sequence', 'process_Ext_token_security_attributes_0', 'related_user_1', 'host_ip_0', 'dns_resolved_ip_3', 'winlog_event_id', 'dns_question_name', 'winlog_event_data_TargetOutboundDomainName', 'registry_data_strings_0', 'dns_flags_authoritative', 'host_architecture', 'process_previous_0_args_0', 'dll_Ext_code_signature_2_exists', 'host_ip_3', 'dns_flags_recursion_available', 'process_Ext_session_info_user_flags_1', 'winlog_event_data_TargetLinkedLogonId', 'winlog_event_data_ProviderName', 'process_entry_leader_supplemental_groups_8_name', 'host_os_build', 'process_real_user_name', 'winlog_user_domain', 'file_extension', 'process_Ext_trusted', 'process_code_signature_subject_name', 'tls_detailed_client_hello_extensions_signature_algorithms_7', 'process_code_signature_signing_id', 'process_interactive', 'process_parent_supplemental_groups_8_id', 'message', 'process_entry_leader_parent_start', 'flow_id', 'process_args_17', 'winlog_user_data_RebootReasons', 'input_type', 'tls_detailed_client_hello_extensions_status_request_responder_id_list_length', 'process_entry_leader_supplemental_groups_4_name', 'tls_detailed_client_hello_extensions_supported_groups_0', 'winlog_event_data_PrivilegeList_1', 'winlog_event_data_Binary', 'user_target_domain', 'powershell_command_invocation_details_7_value', 'powershell_file_script_block_text', 'process_parent_args_7', 'dll_pe_original_file_name', 'powershell_engine_version', 'tags_0', 'network_type', 'source_packets', 'source_domain', 'powershell_command_invocation_details_1_value', 'process_group_leader_supplemental_groups_4_id', 'winlog_user_data_AppType', 'server_geo_city_name', 'registry_data_strings_23', 'tls_detailed_client_hello_extensions_status_request_request_extensions', 'event_code', 'process_tty_columns', 'process_Ext_code_signature_0_status', 'dns_answers_3_type', 'status', 'tls_detailed_client_hello_session_id', 'host_ip_7', 'process_Ext_code_signature_1_trusted', 'process_Ext_ancestry_3', 'process_entry_leader_pid', 'process_group_leader_supplemental_groups_5_name', 'process_session_leader_tty_char_device_major', 'winlog_event_data_ScriptName', 'registry_data_strings_1', 'event_timezone', 'dns_answers_7_ttl', 'tls_detailed_client_hello_extensions_status_request_type', 'related_ip_4', 'process_parent_name', 'registry_data_strings_16', 'host_ip_1', 'process_parent_tty_char_device_major', 'winlog_event_data_LmPackageName', 'process_entry_leader_args_count', 'process_group_leader_supplemental_groups_2_id', 'tls_client_supported_ciphers_7', '_temp_user_parts_1', 'process_Ext_token_security_attributes_1', 'process_session_leader_real_user_id', 'winlog_event_data_CallerProcessId', 'process_group_leader_same_as_process', 'process_Ext_code_signature_1_subject_name', 'dns_resolved_ip_1', 'tls_detailed_client_hello_extensions_signature_algorithms_10', 'event_action', 'event_created', 'dns_answers_2_name', 'tls_client_supported_ciphers_9', 'related_hosts_0', 'Effective_process_executable', 'process_session_leader_args_3', 'client_port', 'dll_code_signature_status', 'source_geo_continent_name', 'process_group_leader_supplemental_groups_0_id', 'registry_data_strings_12', 'powershell_command_invocation_details_13_value', 'process_parent_supplemental_groups_5_name', 'dns_id', 'process_parent_supplemental_groups_7_name', 'agent_name', 'destination_ip', 'process_args_8', 'winlog_event_data_IpAddress', 'tls_detailed_client_hello_random', 'tls_detailed_client_hello_extensions_supported_groups_2', 'registry_data_strings_18', 'process_parent_start', 'log_level', 'destination_geo_country_name', 'process_session_leader_group_name', 'dns_answers_2_class', 'process_parent_entity_id', 'tls_detailed_client_hello_extensions_signature_algorithms_8', 'process_group_leader_real_group_id', 'host_name', 'dll_pe_file_version', 'user_target_name', 'winlog_event_data_Payload_2', 'process_parent_args_count', 'path', 'process_parent_supplemental_groups_6_name', 'process_parent_thread_Ext_call_stack_contains_unbacked', 'tls_client_supported_ciphers_6', 'server_geo_location_lat', 'tls_detailed_client_hello_extensions_signature_algorithms_1', 'winlog_event_data_CountOfCredentialsReturned', 'process_Ext_ancestry_5', 'tls_detailed_client_hello_extensions_supported_versions_0', 'user_id', 'winlog_event_data_HiveNameLength', 'server_bytes', 'agent_ephemeral_id', 'file_Ext_original_path', 'powershell_command_invocation_details_3_related_command', 'cloud_service_name', 'process_group_leader_user_id', 'process_exit_code', 'tls_detailed_server_hello_extensions_supported_versions', 'process_session_leader_pid', 'process_group_leader_supplemental_groups_7_name', 'tls_detailed_client_hello_extensions_supported_versions_1', 'group_Ext_real_id', 'process_group_leader_tty_char_device_major', 'process_args_0', 'process_args_count', 'tls_detailed_client_certificate_requested', 'process_Ext_ancestry_6', 'process_Ext_session_info_authentication_package', 'process_io_total_bytes_captured', 'process_io_max_bytes_per_process_exceeded', 'error_message_0', 'dll_Ext_code_signature_0_subject_name', 'process_session_leader_supplemental_groups_7_id', 'powershell_process_executable_version', 'host_os_type', 'tls_detailed_client_hello_extensions_session_ticket', 'log_offset', 'process_args_2', 'process_io_text', 'file_size', 'powershell_command_invocation_details_5_value', 'dll_Ext_size', 'tls_client_supported_ciphers_5', 'process_end', 'dns_header_flags_0', 'source_bytes', 'destination_geo_region_iso_code', 'file_Ext_monotonic_id', 'process_group_leader_supplemental_groups_2_name', 'server_geo_region_iso_code', 'network_community_id', 'source_as_organization_name', 'process_entity_id', 'process_parent_real_user_name', 'winlog_event_data_AuthenticationPackageName', 'winlog_event_data_ImpersonationLevel', 'process_parent_supplemental_groups_9_id', 'event_type_0', 'dns_answers_2_data', 'dns_flags_truncated_response', 'process_entry_leader_real_user_id', 'process_group_leader_supplemental_groups_1_id', 'process_entry_leader_supplemental_groups_1_name', 'process_parent_supplemental_groups_3_id', 'dll_Ext_relative_file_creation_time', 'winlog_event_data_Type', 'dns_answers_0_data', 'host_hostname', 'process_Ext_ancestry_7', '_temp_details_0_value', 'tls_detailed_client_hello_extensions_signature_algorithms_9', 'winlog_event_data_ContextInfo', 'powershell_command_invocation_details_14_value', 'process_args_5', 'event_id', 'related_ip_0', 'process_Ext_effective_parent_executable', 'process_entry_leader_same_as_process', 'registry_data_strings_7', 'process_Ext_code_signature_0_trusted', 'process_entry_leader_real_group_name', 'tls_client_supported_ciphers_13', 'process_Ext_effective_parent_name', 'process_session_leader_supplemental_groups_5_id', 'file_directory', 'tls_detailed_client_hello_extensions_signature_algorithms_3', 'process_Ext_ancestry_10', 'winlog_user_data_DisplayName', 'tls_detailed_client_hello_extensions_application_layer_protocol_negotiation_0', 'dns_answers_3_ttl', 'tls_detailed_client_hello_extensions_supported_groups_1', 'powershell_pipeline_id', 'registry_data_strings_9', 'related_ip_2', 'tls_version', 'dns_question_etld_plus_one', 'process_entry_leader_supplemental_groups_2_id', 'winlog_process_thread_id', 'process_entry_leader_supplemental_groups_7_id', 'process_args_18', 'dns_answers_5_ttl', 'process_session_leader_real_group_id', 'dns_answers_0_type', 'process_entry_leader_start', '_temp_details_1_value', 'file_Ext_original_name', 'process_tty_rows', 'process_entry_leader_user_id', 'dns_answers_1_type', 'dns_header_flags_1', 'method', 'process_hash_sha1', 'network_transport', 'dns_resolved_ip_5', 'winlog_event_data_PrivilegeList_7', 'process_parent_supplemental_groups_6_id', 'process_parent_args_5', 'winlog_event_data_IpPort', 'source_geo_region_iso_code', 'process_session_leader_supplemental_groups_9_id', 'destination_as_organization_name', 'process_session_leader_same_as_process', 'winlog_event_data_PrivilegeList_0', 'file_inode', 'process_entry_leader_supplemental_groups_8_id', 'process_parent_supplemental_groups_2_name', 'winlog_event_data_TargetOutboundUserName', 'powershell_engine_new_state', 'system_auth_ssh_event', 'group_name', 'network_direction', 'source_geo_location_lon', 'host_os_platform', 'winlog_event_data_LogonProcessName', 'winlog_event_data_FailureReason', 'process_parent_args_3', 'process_Ext_ancestry_1', 'dns_answers_0_ttl', 'dns_resolved_ip_4', 'registry_data_strings_15', 'process_entry_leader_executable', 'tls_detailed_client_hello_extensions_supported_versions_2', 'process_pe_original_file_name', 'tls_detailed_version', 'dns_answers_2_ttl', 'server_geo_country_name', 'source_geo_location_lat', 'process_command_line', 'tls_detailed_client_hello_version', 'dll_hash_md5', 'winlog_event_data_TargetDomainName', 'dns_response_code', 'dns_type', 'process_Ext_token_security_attributes_4', 'user_name', 'process_group_id', 'dns_resolved_ip_0', 'process_args_7', 'registry_data_strings_4', 'cloud_instance_id', 'winlog_user_type', 'winlog_user_data_AppVersion', 'process_parent_executable', 'process_parent_real_user_id', 'destination_geo_continent_name', 'process_group_leader_group_id', 'process_code_signature_status', 'process_code_signature_trusted', 'process_session_leader_args_5', 'cloud_image_id', 'process_previous_0_args_1', 'winlog_event_data_LogonType', 'process_parent_tty_char_device_minor', 'host_ip_5', 'tls_detailed_server_hello_version', 'process_entry_leader_tty_char_device_major', 'process_tty_char_device_minor', 'registry_path', 'process_Ext_effective_parent_pid', 'log_file_path', 'process_entry_leader_supplemental_groups_3_id', 'process_Ext_code_signature_2_status', 'tls_detailed_client_hello_extensions_signature_algorithms_5', 'destination_as_number', 'dns_answers_3_data', 'process_Ext_protection', 'process_session_leader_real_group_name', 'process_session_leader_tty_char_device_minor', 'process_entry_leader_real_group_id', 'process_parent_args_4', 'process_args_11', 'tls_detailed_client_hello_extensions_application_layer_protocol_negotiation_1', 'winlog_event_data_PrivilegeList_5', 'winlog_event_data_SequenceNumber', 'registry_hive', 'process_entry_leader_parent_pid', 'source_address', 'powershell_provider_name', 'process_real_group_name', 'process_Ext_mitigation_policies_2', 'server_geo_region_name', 'dns_flags_authentic_data', 'cloud_machine_type', 'winlog_event_data_VirtualAccount', 'process_parent_supplemental_groups_7_id', 'tls_detailed_client_hello_extensions__unparsed__6', 'winlog_event_data_PrivilegeList_9', 'process_parent_code_signature_team_id', 'icmp_version', 'process_parent_user_name', 'registry_data_strings_10', 'process_hash_sha256', 'process_Ext_code_signature_1_exists', 'process_entry_leader_supplemental_groups_0_name', 'winlog_channel', 'process_parent_working_directory', 'process_parent_code_signature_trusted', 'process_group_leader_supplemental_groups_3_name', 'client_bytes', 'winlog_event_data_param7', 'winlog_event_data_PrivilegeList_3', 'related_ip_1', 'process_group_leader_working_directory', 'winlog_event_data_TargetLogonId', 'server_ip', 'process_group_leader_real_user_id', 'process_parent_code_signature_subject_name', 'tls_client_supported_ciphers_3', 'process_group_leader_interactive', 'process_group_leader_supplemental_groups_9_name', 'process_group_leader_args_3', 'registry_value', 'user_target_id', 'winlog_event_data_TargetUserName', 'process_session_leader_supplemental_groups_0_name', 'process_session_leader_executable', 'process_Ext_ancestry_11', 'destination_geo_location_lat', 'process_group_name', 'process_parent_supplemental_groups_8_name', 'powershell_command_invocation_details_1_type', 'process_group_leader_supplemental_groups_5_id', 'winlog_event_data_param2', 'process_group_leader_group_name', 'process_group_leader_supplemental_groups_1_name', 'process_args_13', 'dns_answers_4_class', 'icmp_request_code', 'powershell_sequence', 'process_session_leader_user_id', 'process_user_name', 'process_Ext_authentication_id', 'dns_answers_count', 'dns_flags_checking_disabled', 'winlog_keywords_1', 'powershell_id', 'file_name', 'process_entry_leader_entity_id', 'process_entry_leader_entry_meta_source_ip', 'winlog_event_data_PrivilegeList_8', 'winlog_user_data_Status', 'tls_detailed_server_hello_random', 'process_args_10', 'event_type_1', 'event_provider', '_temp_details_1_related_command', 'tls_client_supported_ciphers_1', 'destination_domain', 'process_args_15', 'process_Ext_session_info_user_flags_0', 'data_stream_dataset', 'process_user_id', 'winlog_event_data_updateRevisionNumber', 'winlog_logon_failure_reason', 'winlog_event_data_ClientCreationTime', 'tls_client_supported_ciphers_16', 'process_entry_leader_args_1', 'process_entry_leader_supplemental_groups_7_name', 'winlog_event_data_KeyName', 'process_args_1', 'dns_additionals_count', 'process_name', 'winlog_event_data_ClientProcessId', 'process_parent_supplemental_groups_0_name', 'tls_cipher', 'winlog_event_data_AlgorithmName', 'group_domain', 'powershell_command_invocation_details_2_name', '_temp_user_parts_0', 'related_hash_0', 'winlog_user_data_Reason', 'event_dataset', 'process_session_leader_working_directory', 'tls_client_supported_ciphers_19', 'host_ip_4', 'winlog_user_data_AppName', 'winlog_event_data_Operation', 'winlog_opcode', 'dns_answers_1_data', 'process_parent_args_9', 'dns_answers_5_type', 'dll_code_signature_exists', 'winlog_event_data_CallerProcessName', 'process_entry_leader_interactive', 'dns_answers_5_name', 'process_parent_group_name', 'process_parent_supplemental_groups_3_name', 'dll_Ext_code_signature_2_status', 'process_args_6', 'process_pe_imphash', 'powershell_command_invocation_details_2_type', 'process_group_leader_real_group_name', 'powershell_command_invocation_details_9_value', 'winlog_event_data_param8', 'dns_answers_6_ttl', 'tls_detailed_client_hello_extensions__unparsed__3', 'process_entry_leader_group_name', 'winlog_event_data_param5', 'process_entry_leader_entry_meta_type', 'winlog_event_data_param1', 'winlog_event_data_KeyLength', 'process_parent_code_signature_status', 'process_session_leader_supplemental_groups_4_name', 'process_Ext_token_integrity_level_name', 'dns_answers_3_class', 'source_as_number', 'powershell_engine_previous_state', 'process_tty_char_device_major', 'dll_Ext_code_signature_1_trusted', 'process_Ext_code_signature_2_trusted', 'process_group_leader_supplemental_groups_0_name', 'destination_mac', 'destination_port', 'winlog_event_data_TargetSid', 'source_geo_region_name', 'dns_question_top_level_domain', 'winlog_user_data_xml_name', 'process_real_user_id', 'process_parent_user_id', 'dns_answers_6_data', 'source_geo_country_name', 'winlog_event_data_PrivilegeList_4', 'server_port', 'powershell_command_invocation_details_1_related_command', 'destination_bytes', 'winlog_event_data_User', 'process_title', '_temp_details_1_name', 'host_mac_0', 'powershell_provider_new_state', 'powershell_command_invocation_details_4_value', 'winlog_user_data_Pid', 'process_args_14', 'host_ip_2', 'tls_version_protocol', 'winlog_event_data_TSId', 'process_session_leader_args_count', 'client_ip', 'related_ip_3', '_temp_connected_user_parts_0', 'winlog_logon_id', 'tls_resumed', 'process_group_leader_supplemental_groups_9_id', 'dll_Ext_code_signature_1_exists', 'process_entry_leader_supplemental_groups_10_id', 'winlog_task', 'process_group_leader_args_5', 'dns_answers_7_name', 'process_parent_supplemental_groups_9_name', 'host_containerized', 'dns_Ext_options', 'icmp_request_message', 'dns_question_class', 'event_category_0', 'dns_answers_0_name', 'winlog_event_data_DirtyPages', 'process_group_leader_start', 'winlog_provider_name', 'process_Ext_code_signature_1_status', 'tls_detailed_client_hello_extensions_server_name_indication_0', 'dll_name', 'process_Ext_mitigation_policies_1', 'dns_answers_6_class', 'process_args_12', 'dns_answers_7_type', 'process_Ext_token_security_attributes_3', 'dns_answers_4_data', 'dns_answers_5_data', 'host_id', 'event_type', 'source_geo_country_iso_code', 'process_group_leader_args_1', 'process_Ext_session_info_relative_password_age', 'process_parent_supplemental_groups_10_id', 'winlog_user_data_TSSessionId', 'destination_geo_region_name', 'event_ingested', 'process_entry_leader_supplemental_groups_0_id', 'process_Ext_ancestry_2', 'process_session_leader_supplemental_groups_6_name', 'dns_answers_4_ttl', 'tls_established', 'registry_data_strings_19', 'process_parent_supplemental_groups_5_id', 'process_parent_real_group_name', 'winlog_event_data_SubjectUserName', 'process_session_leader_args_4', 'process_session_leader_interactive', 'process_parent_args_6', 'tls_client_supported_ciphers_11', 'process_parent_code_signature_signing_id', 'icmp_request_type', 'event_agent_id_status', 'winlog_event_data_updateTitle', 'process_parent_supplemental_groups_10_name', 'tls_detailed_client_hello_extensions__unparsed__4', 'process_session_leader_supplemental_groups_10_id', 'file_Ext_header_bytes', 'process_group_leader_args_count', 'process_session_leader_supplemental_groups_7_name', 'winlog_logon_failure_sub_status', 'process_group_leader_supplemental_groups_7_id', 'tls_client_supported_ciphers_15', 'process_session_leader_supplemental_groups_5_name', 'source_geo_city_name', 'dll_Ext_code_signature_2_subject_name', 'cloud_region', 'process_session_leader_supplemental_groups_6_id', 'tls_client_supported_ciphers_18', 'winlog_event_data_Severity', '_temp_details_1_type', 'server_as_organization_name', 'process_group_leader_supplemental_groups_4_name', 'server_domain', 'process_session_leader_supplemental_groups_8_id', 'process_group_leader_tty_char_device_minor', 'tls_client_supported_ciphers_2', 'process_Ext_session_info_user_flags_2', 'tls_detailed_client_hello_extensions_ec_points_formats_0', 'process_parent_real_group_id', 'server_as_number', 'host_os_full', 'tls_client_supported_ciphers_12', 'dll_path', 'process_entry_leader_group_id', 'winlog_event_data_KeyFilePath', 'process_code_signature_team_id', 'registry_data_type', 'process_session_leader_supplemental_groups_1_name', 'powershell_command_invocation_details_12_value', 'winlog_keywords_0', 'dns_question_subdomain', 'winlog_event_data_TargetName', 'dns_answers_7_class', 'process_session_leader_start', 'process_group_leader_supplemental_groups_10_name', 'process_real_group_id', 'process_entry_leader_args_0', 'powershell_command_invocation_details_0_related_command', 'process_entry_leader_supplemental_groups_6_id', 'powershell_command_invocation_details_2_value', 'process_entry_leader_supplemental_groups_6_name', 'ecs_version', 'process_session_leader_args_0', 'registry_data_strings_14', 'winlog_version', 'process_group_leader_pid', 'user_Ext_real_id', 'tls_detailed_server_hello_session_id', 'process_parent_supplemental_groups_4_id', 'process_group_leader_supplemental_groups_8_name', 'dns_answers_1_name', 'process_entry_leader_supplemental_groups_5_id', 'powershell_command_name', 'powershell_command_invocation_details_0_value', 'related_ip_9', 'dll_hash_sha1', 'process_session_leader_supplemental_groups_2_id', 'registry_data_strings_2', 'powershell_command_invocation_details_15_value', 'tls_detailed_client_hello_extensions_supported_versions_3', 'winlog_user_data_UTCStartTime', 'destination_geo_location_lon', 'process_session_leader_args_2', 'powershell_command_invocation_details_2_related_command', 'dns_answers_1_class', 'process_session_leader_name', 'winlog_computer_name', 'process_previous_0_args_2', 'process_entry_leader_parent_entity_id', 'elastic_agent_id', 'powershell_command_invocation_details_3_type', 'agent_id', 'process_session_leader_args_1', '_temp_details_0_type', 'powershell_command_invocation_details_3_name', 'event_start', 'Effective_process_entity_id', 'winlog_event_data_SubStatus', 'winlog_api', 'process_thread_id', 'host_ip_8', 'host_os_family', 'process_session_leader_user_name', 'registry_data_strings_6', 'process_entry_leader_real_user_name', 'dns_Ext_status', 'cloud_instance_name', 'powershell_command_type', 'winlog_event_data_ConnectedUser', 'host_os_version', 'process_entry_leader_supplemental_groups_4_id', 'registry_data_strings_13', 'process_entry_leader_supplemental_groups_9_id', 'related_ip_8', 'file_Ext_entropy', 'process_session_leader_supplemental_groups_0_id', 'winlog_event_data_ReadOperation', 'winlog_event_data_param4', 'powershell_command_invocation_details_10_value', 'file_path', 'network_destination_port', 'powershell_total', 'process_parent_pid', 'destination_geo_city_name', 'process_Ext_mitigation_policies_0', 'elastic_agent_snapshot', 'process_group_leader_supplemental_groups_10_id', 'winlog_user_data_nApplications', 'winlog_event_data_Payload_1', 'process_session_leader_real_user_name', 'process_Ext_relative_file_creation_time', 'process_group_leader_supplemental_groups_6_id', 'event_category_1', 'process_Ext_code_signature_2_exists', '@timestamp', 'process_group_leader_supplemental_groups_8_id', 'tls_detailed_client_hello_extensions_signature_algorithms_6', 'process_parent_command_line', 'source_port', 'network_packets', 'winlog_event_data_SubjectLogonId', 'cloud_provider', 'process_parent_interactive', 'winlog_event_data_param9', 'dns_answers_6_name', 'server_geo_continent_name', 'winlog_event_data_SubjectUserSid', 'process_start', 'destination_packets', 'tls_detailed_client_hello_extensions__unparsed__0', 'process_pid', 'registry_data_bytes', 'network_protocol', 'winlog_event_data_ElevatedToken', 'dll_code_signature_subject_name', 'host_ip_9', 'process_group_leader_args_0', 'process_parent_supplemental_groups_1_id', 'process_session_leader_supplemental_groups_3_id', 'process_Ext_ancestry_9', 'network_bytes', 'registry_data_strings_22', 'process_args_19', 'process_entry_leader_supplemental_groups_3_name', 'dns_flags_recursion_desired', 'dns_answers_4_type', 'dns_resolved_ip_7', 'process_session_leader_supplemental_groups_4_id', 'winlog_event_data_ReturnCode', 'process_entry_leader_supplemental_groups_10_name', 'process_parent_supplemental_groups_4_name', 'winlog_user_name', 'dll_code_signature_trusted', 'tls_detailed_client_hello_extensions_signature_algorithms_0', 'host_os_codename', 'dll_pe_imphash', 'dll_Ext_code_signature_0_status', 'process_group_leader_name', 'user_Ext_real_name', 'process_entry_leader_supplemental_groups_2_name', 'winlog_event_data_HiveName', 'winlog_event_data_RestrictedAdminMode', 'dns_question_type', 'dns_resolved_ip_6', 'winlog_event_data_updateGuid', 'dns_authorities_count', 'process_Ext_ancestry_4', 'elastic_agent_version', 'winlog_event_data_KeysUpdated', 'event_end', 'powershell_command_invocation_details_0_type', 'registry_data_strings_8', 'process_session_leader_supplemental_groups_10_name', 'process_Ext_ancestry_8', 'winlog_event_data_PrivilegeList_6', 'powershell_command_invocation_details_8_value', 'related_ip_5', 'group_Ext_real_name', 'tls_detailed_server_hello_extensions__unparsed__0', 'cloud_availability_zone', 'powershell_command_invocation_details_11_value', 'process_args_9', 'winlog_event_data_ProcessCreationTime', 'process_entry_leader_user_name', 'process_session_leader_supplemental_groups_9_name', 'host_os_Ext_variant', 'powershell_command_invocation_details_6_value', 'registry_data_strings_20', 'process_parent_args_8', 'host_os_name', 'process_group_leader_args_2', 'process_session_leader_supplemental_groups_1_id', 'tls_detailed_client_hello_extensions_signature_algorithms_2', 'host_mac_2', 'dns_answers_2_type', 'powershell_runspace_id', 'dns_answers_0_class', 'process_group_leader_user_name', 'process_io_type', 'process_Ext_session_info_logon_type', 'tls_detailed_client_hello_extensions__unparsed__5', 'dll_Ext_code_signature_1_status', 'process_parent_args_0', 'event_duration', 'tls_detailed_server_hello_selected_compression_method', 'tls_detailed_resumption_method', 'tls_client_ja3', 'registry_data_strings_11', 'host_os_kernel', 'process_session_leader_entity_id', 'winlog_process_pid', 'process_session_leader_supplemental_groups_3_name', 'process_group_leader_args_6', 'process_entry_leader_supplemental_groups_1_id', 'dns_answers_6_type', 'process_group_leader_real_user_name', 'process_entry_leader_name', 'process_session_leader_supplemental_groups_2_name', 'powershell_command_invocation_details_1_name', 'registry_key', 'winlog_event_data_UserSid', 'process_Ext_code_signature_0_subject_name', 'process_Ext_ancestry_0', 'process_Ext_session_info_relative_logon_time', 'process_session_leader_supplemental_groups_8_name', 'destination_geo_country_iso_code', 'dns_resolved_ip_2', 'powershell_command_invocation_details_3_value', 'process_parent_supplemental_groups_1_name', 'agent_type', 'agent_version', 'registry_data_strings_21', '_temp_details_0_related_command', 'dll_Ext_code_signature_2_trusted', 'winlog_event_data_PrivilegeList_11', 'host_ip_6', 'winlog_logon_failure_status', 'Effective_process_pid', 'winlog_event_data_CommandPath', 'destination_address', 'process_session_leader_args_6', 'dll_Ext_load_index', 'host_mac_1', 'process_group_leader_supplemental_groups_6_name', 'related_user_0', 'tls_client_supported_ciphers_8', 'source_mac'],\n",
       "        num_rows: 17343\n",
       "    })\n",
       "})"
      ]
     },
     "execution_count": 102,
     "metadata": {},
     "output_type": "execute_result"
    }
   ],
   "source": [
    "dataset = load_dataset(\"json\", data_files={\"train\": train_data_file, \"test\": test_data_file})\n",
    "\n",
    "dataset"
   ]
  },
  {
   "cell_type": "markdown",
   "metadata": {},
   "source": [
    "## fetching pretrained model\n",
    "\n",
    "- fetch it only if it does not exist on models-pretrained directory (only need to run once)\n",
    "- load the fetched model (run this if the model has already been fetched)"
   ]
  },
  {
   "cell_type": "code",
   "execution_count": 46,
   "metadata": {},
   "outputs": [],
   "source": [
    "# create the paths needed\n",
    "path = os.path.join(PRETRAINED_MODEL_PATH, MODEL_NAME_PATH)\n",
    "pretrained_model_path = os.path.join(path, MODEL_DIR)\n",
    "pretrained_tokenizer_path = os.path.join(path, TOKENIZER_DIR)"
   ]
  },
  {
   "cell_type": "code",
   "execution_count": null,
   "metadata": {},
   "outputs": [
    {
     "name": "stderr",
     "output_type": "stream",
     "text": [
      "Some weights of LlamaForSequenceClassification were not initialized from the model checkpoint at meta-llama/Llama-3.2-1B and are newly initialized: ['score.weight']\n",
      "You should probably TRAIN this model on a down-stream task to be able to use it for predictions and inference.\n"
     ]
    },
    {
     "data": {
      "text/plain": [
       "('models-pretrained/llama/tokenizer/tokenizer_config.json',\n",
       " 'models-pretrained/llama/tokenizer/special_tokens_map.json',\n",
       " 'models-pretrained/llama/tokenizer/tokenizer.json')"
      ]
     },
     "execution_count": 4,
     "metadata": {},
     "output_type": "execute_result"
    }
   ],
   "source": [
    "# fetch the llama model from hugging face\n",
    "login(token=os.getenv(\"hugging_face_PAG\"))\n",
    "\n",
    "pretrained_model = AutoModelForSequenceClassification.from_pretrained(\n",
    "    MODEL_NAME,\n",
    "    num_labels=len(id2label),\n",
    "    id2label=id2label,\n",
    "    label2id=label2id\n",
    "    ).to(DEVICE)\n",
    "tokenizer = AutoTokenizer.from_pretrained(MODEL_NAME, add_prefix_space=True)\n",
    "\n",
    "# add pad token if none exists\n",
    "if tokenizer.pad_token is None:\n",
    "    tokenizer.add_special_tokens({\"pad_token\": \"[PAD]\"})\n",
    "    pretrained_model.resize_token_embeddings(len(tokenizer))\n",
    "\n",
    "os.makedirs(path, exist_ok=True)\n",
    "os.makedirs(pretrained_model_path, exist_ok=True)\n",
    "os.makedirs(pretrained_tokenizer_path, exist_ok=True)\n",
    "\n",
    "pretrained_model.save_pretrained(pretrained_model_path)\n",
    "tokenizer.save_pretrained(pretrained_tokenizer_path)"
   ]
  },
  {
   "cell_type": "code",
   "execution_count": 33,
   "metadata": {},
   "outputs": [
    {
     "name": "stderr",
     "output_type": "stream",
     "text": [
      "The new embeddings will be initialized from a multivariate normal distribution that has old embeddings' mean and covariance. As described in this article: https://nlp.stanford.edu/~johnhew/vocab-expansion.html. To disable this, use `mean_resizing=False`\n"
     ]
    }
   ],
   "source": [
    "# load the fetched model from models-pretrained\n",
    "pretrained_model = AutoModelForSequenceClassification.from_pretrained(pretrained_model_path).to(DEVICE)\n",
    "tokenizer = AutoTokenizer.from_pretrained(pretrained_tokenizer_path)\n",
    "\n",
    "# add pad token if none exists\n",
    "if tokenizer.pad_token is None:\n",
    "    tokenizer.add_special_tokens({\"pad_token\": \"[PAD]\"})\n",
    "    pretrained_model.resize_token_embeddings(len(tokenizer))"
   ]
  },
  {
   "cell_type": "markdown",
   "metadata": {},
   "source": [
    "## tokenize function"
   ]
  },
  {
   "cell_type": "code",
   "execution_count": 47,
   "metadata": {},
   "outputs": [],
   "source": [
    "# tokenize the dataset\n",
    "def tokenize_function(examples):\n",
    "    examples_copy = examples.copy()\n",
    "    label = examples_copy.pop(\"label\", 0)\n",
    "    texts = json.dump(examples_copy, separators=(\",\", \":\"))\n",
    "\n",
    "    label = examples.get(\"label\", 0)\n",
    "\n",
    "    encoding = tokenizer(\n",
    "        texts,\n",
    "        truncation=True, \n",
    "        padding=\"max_length\", \n",
    "        max_length=5000,\n",
    "        return_tensors=\"pt\"\n",
    "    )\n",
    "\n",
    "    encoding[\"labels\"] = torch.tensor(label)\n",
    "    \n",
    "    return encoding"
   ]
  },
  {
   "cell_type": "code",
   "execution_count": 48,
   "metadata": {},
   "outputs": [],
   "source": [
    "data_collator = DataCollatorWithPadding(tokenizer=tokenizer)"
   ]
  },
  {
   "cell_type": "markdown",
   "metadata": {},
   "source": [
    "## tokenize the dataset"
   ]
  },
  {
   "cell_type": "code",
   "execution_count": 50,
   "metadata": {},
   "outputs": [
    {
     "data": {
      "text/plain": [
       "IterableDatasetDict({\n",
       "    train: IterableDataset({\n",
       "        features: Unknown,\n",
       "        num_shards: 1\n",
       "    })\n",
       "    test: IterableDataset({\n",
       "        features: Unknown,\n",
       "        num_shards: 1\n",
       "    })\n",
       "})"
      ]
     },
     "execution_count": 50,
     "metadata": {},
     "output_type": "execute_result"
    }
   ],
   "source": [
    "tokenized_dataset = dataset.map(tokenize_function, batched=True)\n",
    "tokenized_dataset"
   ]
  },
  {
   "cell_type": "markdown",
   "metadata": {},
   "source": [
    "## evaluate function"
   ]
  },
  {
   "cell_type": "code",
   "execution_count": 39,
   "metadata": {},
   "outputs": [
    {
     "data": {
      "application/vnd.jupyter.widget-view+json": {
       "model_id": "3cdf1fde905641af88e513d748df409f",
       "version_major": 2,
       "version_minor": 0
      },
      "text/plain": [
       "Downloading builder script:   0%|          | 0.00/4.20k [00:00<?, ?B/s]"
      ]
     },
     "metadata": {},
     "output_type": "display_data"
    }
   ],
   "source": [
    "accuracy = evaluate.load(\"accuracy\")\n",
    "\n",
    "def compute_metrics(eval_pred):\n",
    "    predictions, labels = eval_pred\n",
    "    predictions = torch.tensor(predictions).to(DEVICE)\n",
    "    labels = torch.tensor(labels).to(DEVICE)\n",
    "\n",
    "    predictions = torch.argmax(predictions, dim=1)\n",
    "\n",
    "    return {\"accuracy\": accuracy.compute(predictions=predictions, references=labels)}"
   ]
  },
  {
   "cell_type": "markdown",
   "metadata": {},
   "source": [
    "## test data processing"
   ]
  },
  {
   "cell_type": "code",
   "execution_count": 40,
   "metadata": {},
   "outputs": [
    {
     "data": {
      "text/plain": [
       "IterableDataset({\n",
       "    features: Unknown,\n",
       "    num_shards: 1\n",
       "})"
      ]
     },
     "execution_count": 40,
     "metadata": {},
     "output_type": "execute_result"
    }
   ],
   "source": [
    "def dict_to_string(data):\n",
    "    if isinstance(data, str):\n",
    "        data = json.loads(data)\n",
    "    \n",
    "    if not data:\n",
    "        return \"\"\n",
    "    \n",
    "    formatted_string =  \", \".join([f\"{k}: {v}\" for k, v in data.items() if k != \"label\"])\n",
    "    return {\"input\": formatted_string}\n",
    "\n",
    "test_inputs = dataset[\"test\"].map(dict_to_string)\n",
    "test_inputs"
   ]
  },
  {
   "cell_type": "markdown",
   "metadata": {},
   "source": [
    "## testing untrained model"
   ]
  },
  {
   "cell_type": "code",
   "execution_count": 42,
   "metadata": {},
   "outputs": [
    {
     "name": "stderr",
     "output_type": "stream",
     "text": [
      "Failed to load JSON from file '/home/hugo/Desktop/mrnet/classifier/data/test.jsonl' with error <class 'pyarrow.lib.ArrowInvalid'>: JSON parse error: Column(/event/category) changed from array to string in row 4\n"
     ]
    },
    {
     "name": "stdout",
     "output_type": "stream",
     "text": [
      "Untrained model predictions:\n",
      "--------------------------\n"
     ]
    },
    {
     "ename": "ArrowInvalid",
     "evalue": "JSON parse error: Column(/event/category) changed from array to string in row 4",
     "output_type": "error",
     "traceback": [
      "\u001b[0;31m---------------------------------------------------------------------------\u001b[0m",
      "\u001b[0;31mValueError\u001b[0m                                Traceback (most recent call last)",
      "File \u001b[0;32m~/.local/lib/python3.12/site-packages/datasets/packaged_modules/json/json.py:160\u001b[0m, in \u001b[0;36mJson._generate_tables\u001b[0;34m(self, files)\u001b[0m\n\u001b[1;32m    157\u001b[0m     \u001b[38;5;28;01mwith\u001b[39;00m \u001b[38;5;28mopen\u001b[39m(\n\u001b[1;32m    158\u001b[0m         file, encoding\u001b[38;5;241m=\u001b[39m\u001b[38;5;28mself\u001b[39m\u001b[38;5;241m.\u001b[39mconfig\u001b[38;5;241m.\u001b[39mencoding, errors\u001b[38;5;241m=\u001b[39m\u001b[38;5;28mself\u001b[39m\u001b[38;5;241m.\u001b[39mconfig\u001b[38;5;241m.\u001b[39mencoding_errors\n\u001b[1;32m    159\u001b[0m     ) \u001b[38;5;28;01mas\u001b[39;00m f:\n\u001b[0;32m--> 160\u001b[0m         df \u001b[38;5;241m=\u001b[39m \u001b[43mpandas_read_json\u001b[49m\u001b[43m(\u001b[49m\u001b[43mf\u001b[49m\u001b[43m)\u001b[49m\n\u001b[1;32m    161\u001b[0m \u001b[38;5;28;01mexcept\u001b[39;00m \u001b[38;5;167;01mValueError\u001b[39;00m:\n",
      "File \u001b[0;32m~/.local/lib/python3.12/site-packages/datasets/packaged_modules/json/json.py:38\u001b[0m, in \u001b[0;36mpandas_read_json\u001b[0;34m(path_or_buf, **kwargs)\u001b[0m\n\u001b[1;32m     37\u001b[0m     kwargs[\u001b[38;5;124m\"\u001b[39m\u001b[38;5;124mdtype_backend\u001b[39m\u001b[38;5;124m\"\u001b[39m] \u001b[38;5;241m=\u001b[39m \u001b[38;5;124m\"\u001b[39m\u001b[38;5;124mpyarrow\u001b[39m\u001b[38;5;124m\"\u001b[39m\n\u001b[0;32m---> 38\u001b[0m \u001b[38;5;28;01mreturn\u001b[39;00m \u001b[43mpd\u001b[49m\u001b[38;5;241;43m.\u001b[39;49m\u001b[43mread_json\u001b[49m\u001b[43m(\u001b[49m\u001b[43mpath_or_buf\u001b[49m\u001b[43m,\u001b[49m\u001b[43m \u001b[49m\u001b[38;5;241;43m*\u001b[39;49m\u001b[38;5;241;43m*\u001b[39;49m\u001b[43mkwargs\u001b[49m\u001b[43m)\u001b[49m\n",
      "File \u001b[0;32m/usr/lib64/python3.12/site-packages/pandas/io/json/_json.py:815\u001b[0m, in \u001b[0;36mread_json\u001b[0;34m(path_or_buf, orient, typ, dtype, convert_axes, convert_dates, keep_default_dates, precise_float, date_unit, encoding, encoding_errors, lines, chunksize, compression, nrows, storage_options, dtype_backend, engine)\u001b[0m\n\u001b[1;32m    814\u001b[0m \u001b[38;5;28;01melse\u001b[39;00m:\n\u001b[0;32m--> 815\u001b[0m     \u001b[38;5;28;01mreturn\u001b[39;00m \u001b[43mjson_reader\u001b[49m\u001b[38;5;241;43m.\u001b[39;49m\u001b[43mread\u001b[49m\u001b[43m(\u001b[49m\u001b[43m)\u001b[49m\n",
      "File \u001b[0;32m/usr/lib64/python3.12/site-packages/pandas/io/json/_json.py:1025\u001b[0m, in \u001b[0;36mJsonReader.read\u001b[0;34m(self)\u001b[0m\n\u001b[1;32m   1024\u001b[0m \u001b[38;5;28;01melse\u001b[39;00m:\n\u001b[0;32m-> 1025\u001b[0m     obj \u001b[38;5;241m=\u001b[39m \u001b[38;5;28;43mself\u001b[39;49m\u001b[38;5;241;43m.\u001b[39;49m\u001b[43m_get_object_parser\u001b[49m\u001b[43m(\u001b[49m\u001b[38;5;28;43mself\u001b[39;49m\u001b[38;5;241;43m.\u001b[39;49m\u001b[43mdata\u001b[49m\u001b[43m)\u001b[49m\n\u001b[1;32m   1026\u001b[0m \u001b[38;5;28;01mif\u001b[39;00m \u001b[38;5;28mself\u001b[39m\u001b[38;5;241m.\u001b[39mdtype_backend \u001b[38;5;129;01mis\u001b[39;00m \u001b[38;5;129;01mnot\u001b[39;00m lib\u001b[38;5;241m.\u001b[39mno_default:\n",
      "File \u001b[0;32m/usr/lib64/python3.12/site-packages/pandas/io/json/_json.py:1051\u001b[0m, in \u001b[0;36mJsonReader._get_object_parser\u001b[0;34m(self, json)\u001b[0m\n\u001b[1;32m   1050\u001b[0m \u001b[38;5;28;01mif\u001b[39;00m typ \u001b[38;5;241m==\u001b[39m \u001b[38;5;124m\"\u001b[39m\u001b[38;5;124mframe\u001b[39m\u001b[38;5;124m\"\u001b[39m:\n\u001b[0;32m-> 1051\u001b[0m     obj \u001b[38;5;241m=\u001b[39m \u001b[43mFrameParser\u001b[49m\u001b[43m(\u001b[49m\u001b[43mjson\u001b[49m\u001b[43m,\u001b[49m\u001b[43m \u001b[49m\u001b[38;5;241;43m*\u001b[39;49m\u001b[38;5;241;43m*\u001b[39;49m\u001b[43mkwargs\u001b[49m\u001b[43m)\u001b[49m\u001b[38;5;241;43m.\u001b[39;49m\u001b[43mparse\u001b[49m\u001b[43m(\u001b[49m\u001b[43m)\u001b[49m\n\u001b[1;32m   1053\u001b[0m \u001b[38;5;28;01mif\u001b[39;00m typ \u001b[38;5;241m==\u001b[39m \u001b[38;5;124m\"\u001b[39m\u001b[38;5;124mseries\u001b[39m\u001b[38;5;124m\"\u001b[39m \u001b[38;5;129;01mor\u001b[39;00m obj \u001b[38;5;129;01mis\u001b[39;00m \u001b[38;5;28;01mNone\u001b[39;00m:\n",
      "File \u001b[0;32m/usr/lib64/python3.12/site-packages/pandas/io/json/_json.py:1187\u001b[0m, in \u001b[0;36mParser.parse\u001b[0;34m(self)\u001b[0m\n\u001b[1;32m   1185\u001b[0m \u001b[38;5;129m@final\u001b[39m\n\u001b[1;32m   1186\u001b[0m \u001b[38;5;28;01mdef\u001b[39;00m \u001b[38;5;21mparse\u001b[39m(\u001b[38;5;28mself\u001b[39m):\n\u001b[0;32m-> 1187\u001b[0m     \u001b[38;5;28;43mself\u001b[39;49m\u001b[38;5;241;43m.\u001b[39;49m\u001b[43m_parse\u001b[49m\u001b[43m(\u001b[49m\u001b[43m)\u001b[49m\n\u001b[1;32m   1189\u001b[0m     \u001b[38;5;28;01mif\u001b[39;00m \u001b[38;5;28mself\u001b[39m\u001b[38;5;241m.\u001b[39mobj \u001b[38;5;129;01mis\u001b[39;00m \u001b[38;5;28;01mNone\u001b[39;00m:\n",
      "File \u001b[0;32m/usr/lib64/python3.12/site-packages/pandas/io/json/_json.py:1403\u001b[0m, in \u001b[0;36mFrameParser._parse\u001b[0;34m(self)\u001b[0m\n\u001b[1;32m   1401\u001b[0m \u001b[38;5;28;01mif\u001b[39;00m orient \u001b[38;5;241m==\u001b[39m \u001b[38;5;124m\"\u001b[39m\u001b[38;5;124mcolumns\u001b[39m\u001b[38;5;124m\"\u001b[39m:\n\u001b[1;32m   1402\u001b[0m     \u001b[38;5;28mself\u001b[39m\u001b[38;5;241m.\u001b[39mobj \u001b[38;5;241m=\u001b[39m DataFrame(\n\u001b[0;32m-> 1403\u001b[0m         \u001b[43mujson_loads\u001b[49m\u001b[43m(\u001b[49m\u001b[43mjson\u001b[49m\u001b[43m,\u001b[49m\u001b[43m \u001b[49m\u001b[43mprecise_float\u001b[49m\u001b[38;5;241;43m=\u001b[39;49m\u001b[38;5;28;43mself\u001b[39;49m\u001b[38;5;241;43m.\u001b[39;49m\u001b[43mprecise_float\u001b[49m\u001b[43m)\u001b[49m, dtype\u001b[38;5;241m=\u001b[39m\u001b[38;5;28;01mNone\u001b[39;00m\n\u001b[1;32m   1404\u001b[0m     )\n\u001b[1;32m   1405\u001b[0m \u001b[38;5;28;01melif\u001b[39;00m orient \u001b[38;5;241m==\u001b[39m \u001b[38;5;124m\"\u001b[39m\u001b[38;5;124msplit\u001b[39m\u001b[38;5;124m\"\u001b[39m:\n",
      "\u001b[0;31mValueError\u001b[0m: Trailing data",
      "\nDuring handling of the above exception, another exception occurred:\n",
      "\u001b[0;31mArrowInvalid\u001b[0m                              Traceback (most recent call last)",
      "Cell \u001b[0;32mIn[42], line 6\u001b[0m\n\u001b[1;32m      4\u001b[0m total_untrained \u001b[38;5;241m=\u001b[39m \u001b[38;5;241m0\u001b[39m;\n\u001b[1;32m      5\u001b[0m accuracy_untrained \u001b[38;5;241m=\u001b[39m \u001b[38;5;241m0\u001b[39m;\n\u001b[0;32m----> 6\u001b[0m \u001b[38;5;28;43;01mfor\u001b[39;49;00m\u001b[43m \u001b[49m\u001b[43mtext\u001b[49m\u001b[43m \u001b[49m\u001b[38;5;129;43;01min\u001b[39;49;00m\u001b[43m \u001b[49m\u001b[43mtest_inputs\u001b[49m\u001b[43m:\u001b[49m\n\u001b[1;32m      7\u001b[0m \u001b[43m    \u001b[49m\u001b[38;5;28;43;01mtry\u001b[39;49;00m\u001b[43m:\u001b[49m\n\u001b[1;32m      8\u001b[0m \u001b[43m        \u001b[49m\u001b[43mtotal_untrained\u001b[49m\u001b[43m \u001b[49m\u001b[38;5;241;43m+\u001b[39;49m\u001b[38;5;241;43m=\u001b[39;49m\u001b[43m \u001b[49m\u001b[38;5;241;43m1\u001b[39;49m\n",
      "File \u001b[0;32m~/.local/lib/python3.12/site-packages/datasets/iterable_dataset.py:2226\u001b[0m, in \u001b[0;36mIterableDataset.__iter__\u001b[0;34m(self)\u001b[0m\n\u001b[1;32m   2223\u001b[0m         \u001b[38;5;28;01myield\u001b[39;00m formatter\u001b[38;5;241m.\u001b[39mformat_row(pa_table)\n\u001b[1;32m   2224\u001b[0m     \u001b[38;5;28;01mreturn\u001b[39;00m\n\u001b[0;32m-> 2226\u001b[0m \u001b[43m\u001b[49m\u001b[38;5;28;43;01mfor\u001b[39;49;00m\u001b[43m \u001b[49m\u001b[43mkey\u001b[49m\u001b[43m,\u001b[49m\u001b[43m \u001b[49m\u001b[43mexample\u001b[49m\u001b[43m \u001b[49m\u001b[38;5;129;43;01min\u001b[39;49;00m\u001b[43m \u001b[49m\u001b[43mex_iterable\u001b[49m\u001b[43m:\u001b[49m\n\u001b[1;32m   2227\u001b[0m \u001b[43m    \u001b[49m\u001b[38;5;28;43;01mif\u001b[39;49;00m\u001b[43m \u001b[49m\u001b[38;5;28;43mself\u001b[39;49m\u001b[38;5;241;43m.\u001b[39;49m\u001b[43mfeatures\u001b[49m\u001b[43m \u001b[49m\u001b[38;5;129;43;01mand\u001b[39;49;00m\u001b[43m \u001b[49m\u001b[38;5;129;43;01mnot\u001b[39;49;00m\u001b[43m \u001b[49m\u001b[43mex_iterable\u001b[49m\u001b[38;5;241;43m.\u001b[39;49m\u001b[43mis_typed\u001b[49m\u001b[43m:\u001b[49m\n\u001b[1;32m   2228\u001b[0m \u001b[43m        \u001b[49m\u001b[38;5;66;43;03m# `IterableDataset` automatically fills missing columns with None.\u001b[39;49;00m\n\u001b[1;32m   2229\u001b[0m \u001b[43m        \u001b[49m\u001b[38;5;66;43;03m# This is done with `_apply_feature_types_on_example`.\u001b[39;49;00m\n\u001b[1;32m   2230\u001b[0m \u001b[43m        \u001b[49m\u001b[43mexample\u001b[49m\u001b[43m \u001b[49m\u001b[38;5;241;43m=\u001b[39;49m\u001b[43m \u001b[49m\u001b[43m_apply_feature_types_on_example\u001b[49m\u001b[43m(\u001b[49m\n\u001b[1;32m   2231\u001b[0m \u001b[43m            \u001b[49m\u001b[43mexample\u001b[49m\u001b[43m,\u001b[49m\u001b[43m \u001b[49m\u001b[38;5;28;43mself\u001b[39;49m\u001b[38;5;241;43m.\u001b[39;49m\u001b[43mfeatures\u001b[49m\u001b[43m,\u001b[49m\u001b[43m \u001b[49m\u001b[43mtoken_per_repo_id\u001b[49m\u001b[38;5;241;43m=\u001b[39;49m\u001b[38;5;28;43mself\u001b[39;49m\u001b[38;5;241;43m.\u001b[39;49m\u001b[43m_token_per_repo_id\u001b[49m\n\u001b[1;32m   2232\u001b[0m \u001b[43m        \u001b[49m\u001b[43m)\u001b[49m\n",
      "File \u001b[0;32m~/.local/lib/python3.12/site-packages/datasets/iterable_dataset.py:1067\u001b[0m, in \u001b[0;36mMappedExamplesIterable.__iter__\u001b[0;34m(self)\u001b[0m\n\u001b[1;32m   1065\u001b[0m         \u001b[38;5;28;01myield\u001b[39;00m key, formatter\u001b[38;5;241m.\u001b[39mformat_row(pa_table)\n\u001b[1;32m   1066\u001b[0m \u001b[38;5;28;01melse\u001b[39;00m:\n\u001b[0;32m-> 1067\u001b[0m     \u001b[38;5;28;01myield from\u001b[39;00m \u001b[38;5;28mself\u001b[39m\u001b[38;5;241m.\u001b[39m_iter()\n",
      "File \u001b[0;32m~/.local/lib/python3.12/site-packages/datasets/iterable_dataset.py:1231\u001b[0m, in \u001b[0;36mMappedExamplesIterable._iter\u001b[0;34m(self)\u001b[0m\n\u001b[1;32m   1229\u001b[0m             \u001b[38;5;28mself\u001b[39m\u001b[38;5;241m.\u001b[39m_state_dict[\u001b[38;5;124m\"\u001b[39m\u001b[38;5;124mprevious_state_example_idx\u001b[39m\u001b[38;5;124m\"\u001b[39m] \u001b[38;5;241m=\u001b[39m current_idx\n\u001b[1;32m   1230\u001b[0m \u001b[38;5;28;01melse\u001b[39;00m:\n\u001b[0;32m-> 1231\u001b[0m \u001b[43m    \u001b[49m\u001b[38;5;28;43;01mfor\u001b[39;49;00m\u001b[43m \u001b[49m\u001b[43mkey\u001b[49m\u001b[43m,\u001b[49m\u001b[43m \u001b[49m\u001b[43mtransformed_example\u001b[49m\u001b[43m \u001b[49m\u001b[38;5;129;43;01min\u001b[39;49;00m\u001b[43m \u001b[49m\u001b[43miter_outputs\u001b[49m\u001b[43m(\u001b[49m\u001b[43m)\u001b[49m\u001b[43m:\u001b[49m\n\u001b[1;32m   1232\u001b[0m \u001b[43m        \u001b[49m\u001b[43mcurrent_idx\u001b[49m\u001b[43m \u001b[49m\u001b[38;5;241;43m+\u001b[39;49m\u001b[38;5;241;43m=\u001b[39;49m\u001b[43m \u001b[49m\u001b[38;5;241;43m1\u001b[39;49m\n\u001b[1;32m   1233\u001b[0m \u001b[43m        \u001b[49m\u001b[38;5;28;43;01mif\u001b[39;49;00m\u001b[43m \u001b[49m\u001b[38;5;28;43mself\u001b[39;49m\u001b[38;5;241;43m.\u001b[39;49m\u001b[43m_state_dict\u001b[49m\u001b[43m:\u001b[49m\n",
      "File \u001b[0;32m~/.local/lib/python3.12/site-packages/datasets/iterable_dataset.py:1207\u001b[0m, in \u001b[0;36mMappedExamplesIterable._iter.<locals>.iter_outputs\u001b[0;34m()\u001b[0m\n\u001b[1;32m   1205\u001b[0m         indices\u001b[38;5;241m.\u001b[39mpop(\u001b[38;5;241m0\u001b[39m), tasks\u001b[38;5;241m.\u001b[39mpop(\u001b[38;5;241m0\u001b[39m)\n\u001b[1;32m   1206\u001b[0m \u001b[38;5;28;01melse\u001b[39;00m:\n\u001b[0;32m-> 1207\u001b[0m \u001b[43m    \u001b[49m\u001b[38;5;28;43;01mfor\u001b[39;49;00m\u001b[43m \u001b[49m\u001b[43mi\u001b[49m\u001b[43m,\u001b[49m\u001b[43m \u001b[49m\u001b[43mkey_example\u001b[49m\u001b[43m \u001b[49m\u001b[38;5;129;43;01min\u001b[39;49;00m\u001b[43m \u001b[49m\u001b[43minputs_iterator\u001b[49m\u001b[43m:\u001b[49m\n\u001b[1;32m   1208\u001b[0m \u001b[43m        \u001b[49m\u001b[38;5;28;43;01myield\u001b[39;49;00m\u001b[43m \u001b[49m\u001b[43mi\u001b[49m\u001b[43m,\u001b[49m\u001b[43m \u001b[49m\u001b[43mapply_function\u001b[49m\u001b[43m(\u001b[49m\u001b[43mkey_example\u001b[49m\u001b[43m,\u001b[49m\u001b[43m \u001b[49m\u001b[43mi\u001b[49m\u001b[43m)\u001b[49m\n",
      "File \u001b[0;32m~/.local/lib/python3.12/site-packages/datasets/iterable_dataset.py:1111\u001b[0m, in \u001b[0;36mMappedExamplesIterable._iter.<locals>.iter_inputs\u001b[0;34m()\u001b[0m\n\u001b[1;32m   1110\u001b[0m \u001b[38;5;28;01mdef\u001b[39;00m \u001b[38;5;21miter_inputs\u001b[39m():\n\u001b[0;32m-> 1111\u001b[0m \u001b[43m    \u001b[49m\u001b[38;5;28;43;01mfor\u001b[39;49;00m\u001b[43m \u001b[49m\u001b[43mkey\u001b[49m\u001b[43m,\u001b[49m\u001b[43m \u001b[49m\u001b[43mexample\u001b[49m\u001b[43m \u001b[49m\u001b[38;5;129;43;01min\u001b[39;49;00m\u001b[43m \u001b[49m\u001b[43miterator\u001b[49m\u001b[43m:\u001b[49m\n\u001b[1;32m   1112\u001b[0m \u001b[43m        \u001b[49m\u001b[38;5;66;43;03m# If not batched, we can apply the transform and yield the example directly\u001b[39;49;00m\n\u001b[1;32m   1113\u001b[0m \u001b[43m        \u001b[49m\u001b[38;5;66;43;03m# first copy the example, since we might drop some keys\u001b[39;49;00m\n\u001b[1;32m   1114\u001b[0m \u001b[43m        \u001b[49m\u001b[43mexample\u001b[49m\u001b[43m \u001b[49m\u001b[38;5;241;43m=\u001b[39;49m\u001b[43m \u001b[49m\u001b[38;5;28;43mdict\u001b[39;49m\u001b[43m(\u001b[49m\u001b[43mexample\u001b[49m\u001b[43m)\u001b[49m\n\u001b[1;32m   1115\u001b[0m \u001b[43m        \u001b[49m\u001b[43mexample\u001b[49m\u001b[43m \u001b[49m\u001b[38;5;241;43m=\u001b[39;49m\u001b[43m \u001b[49m\u001b[43mformat_dict\u001b[49m\u001b[43m(\u001b[49m\u001b[43mexample\u001b[49m\u001b[43m)\u001b[49m\u001b[43m \u001b[49m\u001b[38;5;28;43;01mif\u001b[39;49;00m\u001b[43m \u001b[49m\u001b[43mformat_dict\u001b[49m\u001b[43m \u001b[49m\u001b[38;5;28;43;01melse\u001b[39;49;00m\u001b[43m \u001b[49m\u001b[43mexample\u001b[49m\n",
      "File \u001b[0;32m~/.local/lib/python3.12/site-packages/datasets/iterable_dataset.py:299\u001b[0m, in \u001b[0;36mArrowExamplesIterable.__iter__\u001b[0;34m(self)\u001b[0m\n\u001b[1;32m    297\u001b[0m shard_example_idx_start \u001b[38;5;241m=\u001b[39m \u001b[38;5;28mself\u001b[39m\u001b[38;5;241m.\u001b[39m_state_dict[\u001b[38;5;124m\"\u001b[39m\u001b[38;5;124mshard_example_idx\u001b[39m\u001b[38;5;124m\"\u001b[39m] \u001b[38;5;28;01mif\u001b[39;00m \u001b[38;5;28mself\u001b[39m\u001b[38;5;241m.\u001b[39m_state_dict \u001b[38;5;28;01melse\u001b[39;00m \u001b[38;5;241m0\u001b[39m\n\u001b[1;32m    298\u001b[0m shard_example_idx \u001b[38;5;241m=\u001b[39m \u001b[38;5;241m0\u001b[39m\n\u001b[0;32m--> 299\u001b[0m \u001b[43m\u001b[49m\u001b[38;5;28;43;01mfor\u001b[39;49;00m\u001b[43m \u001b[49m\u001b[43mkey\u001b[49m\u001b[43m,\u001b[49m\u001b[43m \u001b[49m\u001b[43mpa_table\u001b[49m\u001b[43m \u001b[49m\u001b[38;5;129;43;01min\u001b[39;49;00m\u001b[43m \u001b[49m\u001b[38;5;28;43mself\u001b[39;49m\u001b[38;5;241;43m.\u001b[39;49m\u001b[43mgenerate_tables_fn\u001b[49m\u001b[43m(\u001b[49m\u001b[38;5;241;43m*\u001b[39;49m\u001b[38;5;241;43m*\u001b[39;49m\u001b[43mgen_kwags\u001b[49m\u001b[43m)\u001b[49m\u001b[43m:\u001b[49m\n\u001b[1;32m    300\u001b[0m \u001b[43m    \u001b[49m\u001b[38;5;28;43;01mif\u001b[39;49;00m\u001b[43m \u001b[49m\u001b[43mshard_example_idx\u001b[49m\u001b[43m \u001b[49m\u001b[38;5;241;43m+\u001b[39;49m\u001b[43m \u001b[49m\u001b[38;5;28;43mlen\u001b[39;49m\u001b[43m(\u001b[49m\u001b[43mpa_table\u001b[49m\u001b[43m)\u001b[49m\u001b[43m \u001b[49m\u001b[38;5;241;43m<\u001b[39;49m\u001b[38;5;241;43m=\u001b[39;49m\u001b[43m \u001b[49m\u001b[43mshard_example_idx_start\u001b[49m\u001b[43m:\u001b[49m\n\u001b[1;32m    301\u001b[0m \u001b[43m        \u001b[49m\u001b[43mshard_example_idx\u001b[49m\u001b[43m \u001b[49m\u001b[38;5;241;43m+\u001b[39;49m\u001b[38;5;241;43m=\u001b[39;49m\u001b[43m \u001b[49m\u001b[38;5;28;43mlen\u001b[39;49m\u001b[43m(\u001b[49m\u001b[43mpa_table\u001b[49m\u001b[43m)\u001b[49m\n",
      "File \u001b[0;32m~/.local/lib/python3.12/site-packages/datasets/packaged_modules/json/json.py:163\u001b[0m, in \u001b[0;36mJson._generate_tables\u001b[0;34m(self, files)\u001b[0m\n\u001b[1;32m    161\u001b[0m \u001b[38;5;28;01mexcept\u001b[39;00m \u001b[38;5;167;01mValueError\u001b[39;00m:\n\u001b[1;32m    162\u001b[0m     logger\u001b[38;5;241m.\u001b[39merror(\u001b[38;5;124mf\u001b[39m\u001b[38;5;124m\"\u001b[39m\u001b[38;5;124mFailed to load JSON from file \u001b[39m\u001b[38;5;124m'\u001b[39m\u001b[38;5;132;01m{\u001b[39;00mfile\u001b[38;5;132;01m}\u001b[39;00m\u001b[38;5;124m'\u001b[39m\u001b[38;5;124m with error \u001b[39m\u001b[38;5;132;01m{\u001b[39;00m\u001b[38;5;28mtype\u001b[39m(e)\u001b[38;5;132;01m}\u001b[39;00m\u001b[38;5;124m: \u001b[39m\u001b[38;5;132;01m{\u001b[39;00me\u001b[38;5;132;01m}\u001b[39;00m\u001b[38;5;124m\"\u001b[39m)\n\u001b[0;32m--> 163\u001b[0m     \u001b[38;5;28;01mraise\u001b[39;00m e\n\u001b[1;32m    164\u001b[0m \u001b[38;5;28;01mif\u001b[39;00m df\u001b[38;5;241m.\u001b[39mcolumns\u001b[38;5;241m.\u001b[39mtolist() \u001b[38;5;241m==\u001b[39m [\u001b[38;5;241m0\u001b[39m]:\n\u001b[1;32m    165\u001b[0m     df\u001b[38;5;241m.\u001b[39mcolumns \u001b[38;5;241m=\u001b[39m \u001b[38;5;28mlist\u001b[39m(\u001b[38;5;28mself\u001b[39m\u001b[38;5;241m.\u001b[39mconfig\u001b[38;5;241m.\u001b[39mfeatures) \u001b[38;5;28;01mif\u001b[39;00m \u001b[38;5;28mself\u001b[39m\u001b[38;5;241m.\u001b[39mconfig\u001b[38;5;241m.\u001b[39mfeatures \u001b[38;5;28;01melse\u001b[39;00m [\u001b[38;5;124m\"\u001b[39m\u001b[38;5;124mtext\u001b[39m\u001b[38;5;124m\"\u001b[39m]\n",
      "File \u001b[0;32m~/.local/lib/python3.12/site-packages/datasets/packaged_modules/json/json.py:137\u001b[0m, in \u001b[0;36mJson._generate_tables\u001b[0;34m(self, files)\u001b[0m\n\u001b[1;32m    135\u001b[0m \u001b[38;5;28;01mwhile\u001b[39;00m \u001b[38;5;28;01mTrue\u001b[39;00m:\n\u001b[1;32m    136\u001b[0m     \u001b[38;5;28;01mtry\u001b[39;00m:\n\u001b[0;32m--> 137\u001b[0m         pa_table \u001b[38;5;241m=\u001b[39m \u001b[43mpaj\u001b[49m\u001b[38;5;241;43m.\u001b[39;49m\u001b[43mread_json\u001b[49m\u001b[43m(\u001b[49m\n\u001b[1;32m    138\u001b[0m \u001b[43m            \u001b[49m\u001b[43mio\u001b[49m\u001b[38;5;241;43m.\u001b[39;49m\u001b[43mBytesIO\u001b[49m\u001b[43m(\u001b[49m\u001b[43mbatch\u001b[49m\u001b[43m)\u001b[49m\u001b[43m,\u001b[49m\u001b[43m \u001b[49m\u001b[43mread_options\u001b[49m\u001b[38;5;241;43m=\u001b[39;49m\u001b[43mpaj\u001b[49m\u001b[38;5;241;43m.\u001b[39;49m\u001b[43mReadOptions\u001b[49m\u001b[43m(\u001b[49m\u001b[43mblock_size\u001b[49m\u001b[38;5;241;43m=\u001b[39;49m\u001b[43mblock_size\u001b[49m\u001b[43m)\u001b[49m\n\u001b[1;32m    139\u001b[0m \u001b[43m        \u001b[49m\u001b[43m)\u001b[49m\n\u001b[1;32m    140\u001b[0m         \u001b[38;5;28;01mbreak\u001b[39;00m\n\u001b[1;32m    141\u001b[0m     \u001b[38;5;28;01mexcept\u001b[39;00m (pa\u001b[38;5;241m.\u001b[39mArrowInvalid, pa\u001b[38;5;241m.\u001b[39mArrowNotImplementedError) \u001b[38;5;28;01mas\u001b[39;00m e:\n",
      "File \u001b[0;32m/usr/lib64/python3.12/site-packages/pyarrow/_json.pyx:308\u001b[0m, in \u001b[0;36mpyarrow._json.read_json\u001b[0;34m()\u001b[0m\n",
      "File \u001b[0;32m/usr/lib64/python3.12/site-packages/pyarrow/error.pxi:154\u001b[0m, in \u001b[0;36mpyarrow.lib.pyarrow_internal_check_status\u001b[0;34m()\u001b[0m\n",
      "File \u001b[0;32m/usr/lib64/python3.12/site-packages/pyarrow/error.pxi:91\u001b[0m, in \u001b[0;36mpyarrow.lib.check_status\u001b[0;34m()\u001b[0m\n",
      "\u001b[0;31mArrowInvalid\u001b[0m: JSON parse error: Column(/event/category) changed from array to string in row 4"
     ]
    }
   ],
   "source": [
    "print(\"Untrained model predictions:\")\n",
    "print(\"--------------------------\")\n",
    "isCorret_untrained = 0;\n",
    "total_untrained = 0;\n",
    "accuracy_untrained = 0;\n",
    "for text in test_inputs:\n",
    "    try:\n",
    "        total_untrained += 1\n",
    "        inputs = tokenizer.encode(text[\"input\"], return_tensors=\"pt\").to(DEVICE)\n",
    "        logits = pretrained_model(inputs).logits\n",
    "        predictions = torch.argmax(logits, dim=1)\n",
    "        if predictions == text[\"label\"]:\n",
    "            isCorret_untrained += 1\n",
    "    except:\n",
    "        print(f\"Skipping malformed row: {text}\")\n",
    "\n",
    "accuracy_untrained = isCorret_untrained / total_untrained\n",
    "print(f\"Accuracy: {accuracy_untrained}\")"
   ]
  }
 ],
 "metadata": {
  "kernelspec": {
   "display_name": "Python 3",
   "language": "python",
   "name": "python3"
  },
  "language_info": {
   "codemirror_mode": {
    "name": "ipython",
    "version": 3
   },
   "file_extension": ".py",
   "mimetype": "text/x-python",
   "name": "python",
   "nbconvert_exporter": "python",
   "pygments_lexer": "ipython3",
   "version": "3.12.9"
  }
 },
 "nbformat": 4,
 "nbformat_minor": 2
}
