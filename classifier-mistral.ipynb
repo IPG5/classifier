{
 "cells": [
  {
   "cell_type": "markdown",
   "metadata": {},
   "source": [
    "# classifier-mistral\n",
    "\n",
    "- includes\n",
    "  - determining the computing device\n",
    "  - model name\n",
    "  - data path\n",
    "  - config"
   ]
  },
  {
   "cell_type": "code",
   "execution_count": null,
   "metadata": {},
   "outputs": [
    {
     "name": "stdout",
     "output_type": "stream",
     "text": [
      "This model is training on cuda:0\n"
     ]
    }
   ],
   "source": [
    "import json\n",
    "import re\n",
    "from pprint import pprint\n",
    "import evaluate\n",
    "import pandas as pd\n",
    "import torch\n",
    "from datasets import Dataset, load_dataset\n",
    "from huggingface_hub import login\n",
    "from peft import LoraConfig, PeftModel, get_peft_model, PeftModel\n",
    "from transformers import (\n",
    "    AutoModelForSequenceClassification,\n",
    "    AutoTokenizer,\n",
    "    BitsAndBytesConfig,\n",
    "    TrainingArguments,\n",
    "    LlamaModel,\n",
    "    AutoConfig,\n",
    "    DataCollatorWithPadding,\n",
    "    Trainer,\n",
    "    TrainingArguments,\n",
    "    EarlyStoppingCallback\n",
    ")\n",
    "from trl import SFTTrainer\n",
    "from sklearn.model_selection import train_test_split\n",
    "import numpy as np\n",
    "from dotenv import load_dotenv\n",
    "import os\n",
    "from pathlib import Path\n",
    "from datetime import datetime\n",
    " \n",
    "DEVICE = \"cuda:0\" if torch.cuda.is_available() else \"cpu\"\n",
    "PRETRAINED_MODEL_PATH = \"models-pretrained/\"\n",
    "MODEL_NAME = \"mistralai/Mistral-7B-Instruct-v0.3\" \n",
    "DATA_PATH = \"data\"\n",
    "OMM_PATH = \"omm_v1\"\n",
    "TEST_DATA = \"test.jsonl\"\n",
    "TRAIN_DATA = \"train.jsonl\"\n",
    "MODEL_NAME_PATH = \"mistral\"\n",
    "MODEL_DIR = \"model\"\n",
    "TOKENIZER_DIR = \"tokenizer\"\n",
    "RANDOM_SEED = 42\n",
    "\n",
    "load_dotenv()\n",
    "torch.cuda.empty_cache()\n",
    "torch.backends.cudnn.benchmark = True\n",
    "torch.cuda.reset_peak_memory_stats()\n",
    "\n",
    "print(\"This model is training on\",DEVICE)"
   ]
  },
  {
   "cell_type": "markdown",
   "metadata": {},
   "source": [
    "## data processing\n",
    "\n",
    "- create label maps\n",
    "- process json files and split into test data and train data(only need to run once)\n",
    "  - 7:3 ratio"
   ]
  },
  {
   "cell_type": "code",
   "execution_count": 2,
   "metadata": {},
   "outputs": [],
   "source": [
    "# label maps\n",
    "id2label = {0: \"Normal\", 1: \"Suspicious\"}\n",
    "label2id = {v:k for k,v in id2label.items()}"
   ]
  },
  {
   "cell_type": "code",
   "execution_count": 3,
   "metadata": {},
   "outputs": [],
   "source": [
    "# data paths\n",
    "normal_temp_file = os.path.join(DATA_PATH, \"temp_normal.json\")\n",
    "sus_temp_file = os.path.join(DATA_PATH, \"temp_sus.json\")\n",
    "test_data_file = os.path.join(DATA_PATH, TEST_DATA)\n",
    "train_data_file = os.path.join(DATA_PATH, TRAIN_DATA)"
   ]
  },
  {
   "cell_type": "code",
   "execution_count": 4,
   "metadata": {},
   "outputs": [],
   "source": [
    "# omm data\n",
    "normal_data = {\"1pass.json\",\"2pass.json\",\"3pass.json\",\"4pass.json\",\"5pass.json\",\"6pass.json\",\"7pass.json\",\"8pass.json\"}\n",
    "sus_data = {\"1output.json\",\"2output.json\",\"3output.json\",\"4output.json\",\"5output.json\",\"6output.json\",\"7output.json\",\"8output.json\"}\n",
    "\n",
    "def read_json_files(file_set, path):\n",
    "    data={}\n",
    "    for file in file_set:\n",
    "        file_path = os.path.join(path, file)\n",
    "        if os.path.exists(file_path):\n",
    "            with open(file_path, \"r\", encoding=\"utf-8\") as f:\n",
    "                try:\n",
    "                    file_content = json.load(f)\n",
    "                    data.update(file_content)\n",
    "                except json.JSONDecodeError:\n",
    "                    print(f\"Error reading {file}: Invalid JSON format\")\n",
    "        else:\n",
    "            print(f\"Warning: {file} not found\")\n",
    "    return data\n",
    "\n",
    "normal_data = read_json_files(normal_data, os.path.join(DATA_PATH, OMM_PATH))\n",
    "sus_data = read_json_files(sus_data, os.path.join(DATA_PATH, OMM_PATH))\n",
    "\n",
    "with open(normal_temp_file, \"w\", encoding=\"utf-8\") as f:\n",
    "    json.dump(normal_data, f, indent=4)\n",
    "with open(sus_temp_file, \"w\", encoding=\"utf-8\") as f:\n",
    "    json.dump(sus_data, f, indent=4)\n",
    "\n",
    "open(train_data_file, \"w\", encoding=\"utf-8\")\n",
    "\n",
    "def json_to_plain_text(example):\n",
    "    \"\"\"Convert a JSON object into a plain text representation.\"\"\"\n",
    "    text_parts = []\n",
    "    for key, value in example.items():\n",
    "        if value not in [None, \"\", [], {}]:  # Ignore empty values\n",
    "            if isinstance(value, (list, dict)):\n",
    "                value = json.dumps(value, separators=(\",\", \":\"))  # Convert lists/dicts to string\n",
    "            text_parts.append(f\"{key}: {value}\")  # Format as \"key: value\"\n",
    "    return \" | \".join(text_parts)  # Join all key-value pairs\n",
    "\n",
    "def save_events_to_jsonl(input_file, output_file, label):\n",
    "\n",
    "    with open(input_file, \"r\", encoding=\"utf-8\") as file:\n",
    "        data = json.load(file)\n",
    "\n",
    "    with open(output_file, \"a\", encoding=\"utf-8\") as f:\n",
    "        for _, event_data in data.items():\n",
    "            event_source = event_data[\"_source\"]\n",
    "            text_representation = json_to_plain_text(event_source)\n",
    "            f.write(json.dumps({\"text\": text_representation, \"label\": label}) + \"\\n\")\n",
    "\n",
    "save_events_to_jsonl(normal_temp_file, train_data_file, label2id[\"Normal\"]) \n",
    "save_events_to_jsonl(sus_temp_file, train_data_file, label2id[\"Suspicious\"])\n",
    "\n",
    "with open(train_data_file, \"r\", encoding=\"utf-8\") as file:\n",
    "    full_data = [json.loads(line) for line in file]\n",
    "\n",
    "train_data, test_data = train_test_split(full_data, test_size=0.3, shuffle=True, random_state=RANDOM_SEED)\n",
    "\n",
    "with open(test_data_file, \"w\", encoding=\"utf-8\") as file:\n",
    "    for entry in test_data:\n",
    "        \n",
    "        file.write(json.dumps(entry) + \"\\n\")\n",
    "\n",
    "with open(train_data_file, \"w\", encoding=\"utf-8\") as file:\n",
    "    for entry in train_data:\n",
    "        \n",
    "        file.write(json.dumps(entry) + \"\\n\")\n",
    "\n",
    "temp_norm_path = Path(normal_temp_file)\n",
    "temp_sus_path = Path(sus_temp_file)\n",
    "\n",
    "if temp_norm_path.exists():\n",
    "    temp_norm_path.unlink()\n",
    "if temp_sus_path.exists():\n",
    "    temp_sus_path.unlink()"
   ]
  },
  {
   "cell_type": "code",
   "execution_count": 4,
   "metadata": {},
   "outputs": [
    {
     "name": "stdout",
     "output_type": "stream",
     "text": [
      "Detected Field Types:\n",
      "text: {'str'}\n",
      "label: {'int'}\n"
     ]
    }
   ],
   "source": [
    "def detect_schema_issues(input_file):\n",
    "    \"\"\"Detects inconsistent data types in a JSONL file\"\"\"\n",
    "    field_types = {}\n",
    "\n",
    "    with open(input_file, \"r\", encoding=\"utf-8\") as infile:\n",
    "        for line_number, line in enumerate(infile, start=1):\n",
    "            try:\n",
    "                data = json.loads(line)\n",
    "\n",
    "                for key, value in data.items():\n",
    "                    value_type = type(value).__name__\n",
    "\n",
    "                    if key not in field_types:\n",
    "                        field_types[key] = set()\n",
    "                    field_types[key].add(value_type)\n",
    "\n",
    "            except json.JSONDecodeError:\n",
    "                print(f\"Skipping invalid JSON at line {line_number}\")\n",
    "\n",
    "    print(\"Detected Field Types:\")\n",
    "    for field, types in field_types.items():\n",
    "        print(f\"{field}: {types}\")\n",
    "\n",
    "# Run schema detection\n",
    "detect_schema_issues(train_data_file)"
   ]
  },
  {
   "cell_type": "markdown",
   "metadata": {},
   "source": [
    "## load dataset"
   ]
  },
  {
   "cell_type": "code",
   "execution_count": 4,
   "metadata": {},
   "outputs": [
    {
     "data": {
      "text/plain": [
       "DatasetDict({\n",
       "    train: Dataset({\n",
       "        features: ['text', 'label'],\n",
       "        num_rows: 40464\n",
       "    })\n",
       "    test: Dataset({\n",
       "        features: ['text', 'label'],\n",
       "        num_rows: 17343\n",
       "    })\n",
       "})"
      ]
     },
     "execution_count": 4,
     "metadata": {},
     "output_type": "execute_result"
    }
   ],
   "source": [
    "dataset = load_dataset(\"json\", data_files={\"train\": train_data_file, \"test\": test_data_file})\n",
    "\n",
    "dataset"
   ]
  },
  {
   "cell_type": "markdown",
   "metadata": {},
   "source": [
    "## fetching pretrained model\n",
    "\n",
    "- fetch it only if it does not exist on models-pretrained directory (only need to run once)\n",
    "- load the fetched model (run this if the model has already been fetched)"
   ]
  },
  {
   "cell_type": "code",
   "execution_count": 5,
   "metadata": {},
   "outputs": [],
   "source": [
    "# create the paths needed\n",
    "path = os.path.join(PRETRAINED_MODEL_PATH, MODEL_NAME_PATH)\n",
    "pretrained_model_path = os.path.join(path, MODEL_DIR)\n",
    "pretrained_tokenizer_path = os.path.join(path, TOKENIZER_DIR)"
   ]
  },
  {
   "cell_type": "code",
   "execution_count": 6,
   "metadata": {},
   "outputs": [
    {
     "ename": "ValueError",
     "evalue": "Unrecognized configuration class <class 'transformers.models.mistral3.configuration_mistral3.Mistral3Config'> for this kind of AutoModel: AutoModelForSequenceClassification.\nModel type should be one of AlbertConfig, BartConfig, BertConfig, BigBirdConfig, BigBirdPegasusConfig, BioGptConfig, BloomConfig, CamembertConfig, CanineConfig, LlamaConfig, ConvBertConfig, CTRLConfig, Data2VecTextConfig, DebertaConfig, DebertaV2Config, DiffLlamaConfig, DistilBertConfig, ElectraConfig, ErnieConfig, ErnieMConfig, EsmConfig, FalconConfig, FlaubertConfig, FNetConfig, FunnelConfig, GemmaConfig, Gemma2Config, GlmConfig, GPT2Config, GPT2Config, GPTBigCodeConfig, GPTNeoConfig, GPTNeoXConfig, GPTJConfig, HeliumConfig, IBertConfig, JambaConfig, JetMoeConfig, LayoutLMConfig, LayoutLMv2Config, LayoutLMv3Config, LEDConfig, LiltConfig, LlamaConfig, LongformerConfig, LukeConfig, MarkupLMConfig, MBartConfig, MegaConfig, MegatronBertConfig, MistralConfig, MixtralConfig, MobileBertConfig, ModernBertConfig, MPNetConfig, MptConfig, MraConfig, MT5Config, MvpConfig, NemotronConfig, NezhaConfig, NystromformerConfig, OpenLlamaConfig, OpenAIGPTConfig, OPTConfig, PerceiverConfig, PersimmonConfig, PhiConfig, Phi3Config, PhimoeConfig, PLBartConfig, QDQBertConfig, Qwen2Config, Qwen2MoeConfig, ReformerConfig, RemBertConfig, RobertaConfig, RobertaPreLayerNormConfig, RoCBertConfig, RoFormerConfig, SqueezeBertConfig, StableLmConfig, Starcoder2Config, T5Config, TapasConfig, TransfoXLConfig, UMT5Config, XLMConfig, XLMRobertaConfig, XLMRobertaXLConfig, XLNetConfig, XmodConfig, YosoConfig, ZambaConfig, Zamba2Config.",
     "output_type": "error",
     "traceback": [
      "\u001b[0;31m---------------------------------------------------------------------------\u001b[0m",
      "\u001b[0;31mValueError\u001b[0m                                Traceback (most recent call last)",
      "Cell \u001b[0;32mIn[6], line 4\u001b[0m\n\u001b[1;32m      1\u001b[0m \u001b[38;5;66;03m# fetch the llama model from hugging face\u001b[39;00m\n\u001b[1;32m      2\u001b[0m login(token\u001b[38;5;241m=\u001b[39mos\u001b[38;5;241m.\u001b[39mgetenv(\u001b[38;5;124m\"\u001b[39m\u001b[38;5;124mhugging_face_PAG\u001b[39m\u001b[38;5;124m\"\u001b[39m))\n\u001b[0;32m----> 4\u001b[0m pretrained_model \u001b[38;5;241m=\u001b[39m \u001b[43mAutoModelForSequenceClassification\u001b[49m\u001b[38;5;241;43m.\u001b[39;49m\u001b[43mfrom_pretrained\u001b[49m\u001b[43m(\u001b[49m\n\u001b[1;32m      5\u001b[0m \u001b[43m    \u001b[49m\u001b[43mMODEL_NAME\u001b[49m\u001b[43m,\u001b[49m\n\u001b[1;32m      6\u001b[0m \u001b[43m    \u001b[49m\u001b[43mnum_labels\u001b[49m\u001b[38;5;241;43m=\u001b[39;49m\u001b[38;5;28;43mlen\u001b[39;49m\u001b[43m(\u001b[49m\u001b[43mid2label\u001b[49m\u001b[43m)\u001b[49m\u001b[43m,\u001b[49m\n\u001b[1;32m      7\u001b[0m \u001b[43m    \u001b[49m\u001b[43mid2label\u001b[49m\u001b[38;5;241;43m=\u001b[39;49m\u001b[43mid2label\u001b[49m\u001b[43m,\u001b[49m\n\u001b[1;32m      8\u001b[0m \u001b[43m    \u001b[49m\u001b[43mlabel2id\u001b[49m\u001b[38;5;241;43m=\u001b[39;49m\u001b[43mlabel2id\u001b[49m\n\u001b[1;32m      9\u001b[0m \u001b[43m    \u001b[49m\u001b[43m)\u001b[49m\u001b[38;5;241m.\u001b[39mto(DEVICE)\n\u001b[1;32m     10\u001b[0m tokenizer \u001b[38;5;241m=\u001b[39m AutoTokenizer\u001b[38;5;241m.\u001b[39mfrom_pretrained(MODEL_NAME, add_prefix_space\u001b[38;5;241m=\u001b[39m\u001b[38;5;28;01mTrue\u001b[39;00m)\n\u001b[1;32m     12\u001b[0m \u001b[38;5;66;03m# add pad token if none exists\u001b[39;00m\n",
      "File \u001b[0;32m~/.local/lib/python3.12/site-packages/transformers/models/auto/auto_factory.py:576\u001b[0m, in \u001b[0;36m_BaseAutoModelClass.from_pretrained\u001b[0;34m(cls, pretrained_model_name_or_path, *model_args, **kwargs)\u001b[0m\n\u001b[1;32m    572\u001b[0m     model_class \u001b[38;5;241m=\u001b[39m _get_model_class(config, \u001b[38;5;28mcls\u001b[39m\u001b[38;5;241m.\u001b[39m_model_mapping)\n\u001b[1;32m    573\u001b[0m     \u001b[38;5;28;01mreturn\u001b[39;00m model_class\u001b[38;5;241m.\u001b[39mfrom_pretrained(\n\u001b[1;32m    574\u001b[0m         pretrained_model_name_or_path, \u001b[38;5;241m*\u001b[39mmodel_args, config\u001b[38;5;241m=\u001b[39mconfig, \u001b[38;5;241m*\u001b[39m\u001b[38;5;241m*\u001b[39mhub_kwargs, \u001b[38;5;241m*\u001b[39m\u001b[38;5;241m*\u001b[39mkwargs\n\u001b[1;32m    575\u001b[0m     )\n\u001b[0;32m--> 576\u001b[0m \u001b[38;5;28;01mraise\u001b[39;00m \u001b[38;5;167;01mValueError\u001b[39;00m(\n\u001b[1;32m    577\u001b[0m     \u001b[38;5;124mf\u001b[39m\u001b[38;5;124m\"\u001b[39m\u001b[38;5;124mUnrecognized configuration class \u001b[39m\u001b[38;5;132;01m{\u001b[39;00mconfig\u001b[38;5;241m.\u001b[39m\u001b[38;5;18m__class__\u001b[39m\u001b[38;5;132;01m}\u001b[39;00m\u001b[38;5;124m for this kind of AutoModel: \u001b[39m\u001b[38;5;132;01m{\u001b[39;00m\u001b[38;5;28mcls\u001b[39m\u001b[38;5;241m.\u001b[39m\u001b[38;5;18m__name__\u001b[39m\u001b[38;5;132;01m}\u001b[39;00m\u001b[38;5;124m.\u001b[39m\u001b[38;5;130;01m\\n\u001b[39;00m\u001b[38;5;124m\"\u001b[39m\n\u001b[1;32m    578\u001b[0m     \u001b[38;5;124mf\u001b[39m\u001b[38;5;124m\"\u001b[39m\u001b[38;5;124mModel type should be one of \u001b[39m\u001b[38;5;132;01m{\u001b[39;00m\u001b[38;5;124m'\u001b[39m\u001b[38;5;124m, \u001b[39m\u001b[38;5;124m'\u001b[39m\u001b[38;5;241m.\u001b[39mjoin(c\u001b[38;5;241m.\u001b[39m\u001b[38;5;18m__name__\u001b[39m\u001b[38;5;250m \u001b[39m\u001b[38;5;28;01mfor\u001b[39;00m\u001b[38;5;250m \u001b[39mc\u001b[38;5;250m \u001b[39m\u001b[38;5;129;01min\u001b[39;00m\u001b[38;5;250m \u001b[39m\u001b[38;5;28mcls\u001b[39m\u001b[38;5;241m.\u001b[39m_model_mapping\u001b[38;5;241m.\u001b[39mkeys())\u001b[38;5;132;01m}\u001b[39;00m\u001b[38;5;124m.\u001b[39m\u001b[38;5;124m\"\u001b[39m\n\u001b[1;32m    579\u001b[0m )\n",
      "\u001b[0;31mValueError\u001b[0m: Unrecognized configuration class <class 'transformers.models.mistral3.configuration_mistral3.Mistral3Config'> for this kind of AutoModel: AutoModelForSequenceClassification.\nModel type should be one of AlbertConfig, BartConfig, BertConfig, BigBirdConfig, BigBirdPegasusConfig, BioGptConfig, BloomConfig, CamembertConfig, CanineConfig, LlamaConfig, ConvBertConfig, CTRLConfig, Data2VecTextConfig, DebertaConfig, DebertaV2Config, DiffLlamaConfig, DistilBertConfig, ElectraConfig, ErnieConfig, ErnieMConfig, EsmConfig, FalconConfig, FlaubertConfig, FNetConfig, FunnelConfig, GemmaConfig, Gemma2Config, GlmConfig, GPT2Config, GPT2Config, GPTBigCodeConfig, GPTNeoConfig, GPTNeoXConfig, GPTJConfig, HeliumConfig, IBertConfig, JambaConfig, JetMoeConfig, LayoutLMConfig, LayoutLMv2Config, LayoutLMv3Config, LEDConfig, LiltConfig, LlamaConfig, LongformerConfig, LukeConfig, MarkupLMConfig, MBartConfig, MegaConfig, MegatronBertConfig, MistralConfig, MixtralConfig, MobileBertConfig, ModernBertConfig, MPNetConfig, MptConfig, MraConfig, MT5Config, MvpConfig, NemotronConfig, NezhaConfig, NystromformerConfig, OpenLlamaConfig, OpenAIGPTConfig, OPTConfig, PerceiverConfig, PersimmonConfig, PhiConfig, Phi3Config, PhimoeConfig, PLBartConfig, QDQBertConfig, Qwen2Config, Qwen2MoeConfig, ReformerConfig, RemBertConfig, RobertaConfig, RobertaPreLayerNormConfig, RoCBertConfig, RoFormerConfig, SqueezeBertConfig, StableLmConfig, Starcoder2Config, T5Config, TapasConfig, TransfoXLConfig, UMT5Config, XLMConfig, XLMRobertaConfig, XLMRobertaXLConfig, XLNetConfig, XmodConfig, YosoConfig, ZambaConfig, Zamba2Config."
     ]
    }
   ],
   "source": [
    "# fetch the llama model from hugging face\n",
    "login(token=os.getenv(\"hugging_face_PAG\"))\n",
    "\n",
    "pretrained_model = AutoModelForSequenceClassification.from_pretrained(\n",
    "    MODEL_NAME,\n",
    "    num_labels=len(id2label),\n",
    "    id2label=id2label,\n",
    "    label2id=label2id\n",
    "    ).to(DEVICE)\n",
    "tokenizer = AutoTokenizer.from_pretrained(MODEL_NAME, add_prefix_space=True)\n",
    "\n",
    "# add pad token if none exists\n",
    "if tokenizer.pad_token is None:\n",
    "    tokenizer.add_special_tokens({\"pad_token\": \"[PAD]\"})\n",
    "    pretrained_model.resize_token_embeddings(len(tokenizer))\n",
    "\n",
    "os.makedirs(path, exist_ok=True)\n",
    "os.makedirs(pretrained_model_path, exist_ok=True)\n",
    "os.makedirs(pretrained_tokenizer_path, exist_ok=True)\n",
    "\n",
    "pretrained_model.save_pretrained(pretrained_model_path)\n",
    "tokenizer.save_pretrained(pretrained_tokenizer_path)"
   ]
  },
  {
   "cell_type": "code",
   "execution_count": 6,
   "metadata": {},
   "outputs": [],
   "source": [
    "# load the fetched model from models-pretrained\n",
    "pretrained_model = AutoModelForSequenceClassification.from_pretrained(\n",
    "    pretrained_model_path,\n",
    "    num_labels=len(id2label),\n",
    "    id2label=id2label,\n",
    "    label2id=label2id).to(DEVICE)\n",
    "tokenizer = AutoTokenizer.from_pretrained(pretrained_tokenizer_path, add_prefix_space=True)\n",
    "\n",
    "# add pad token if none exists\n",
    "if tokenizer.pad_token is None:\n",
    "    tokenizer.add_special_tokens({\"pad_token\": \"[PAD]\"})\n",
    "    pretrained_model.resize_token_embeddings(len(tokenizer))"
   ]
  },
  {
   "cell_type": "markdown",
   "metadata": {},
   "source": [
    "## tokenize function"
   ]
  },
  {
   "cell_type": "code",
   "execution_count": 7,
   "metadata": {},
   "outputs": [],
   "source": [
    "# tokenize the dataset\n",
    "def tokenize_function(examples):\n",
    "    text = examples[\"text\"]\n",
    "\n",
    "    # Tokenize texts in batch mode\n",
    "    encoding = tokenizer(\n",
    "        text,\n",
    "        truncation=True, \n",
    "        padding=\"max_length\", \n",
    "        max_length=5000,\n",
    "        return_tensors=\"pt\"\n",
    "    )\n",
    "\n",
    "    return encoding"
   ]
  },
  {
   "cell_type": "code",
   "execution_count": 8,
   "metadata": {},
   "outputs": [],
   "source": [
    "data_collator = DataCollatorWithPadding(tokenizer=tokenizer)\n"
   ]
  },
  {
   "cell_type": "markdown",
   "metadata": {},
   "source": [
    "## tokenize the dataset"
   ]
  },
  {
   "cell_type": "code",
   "execution_count": 10,
   "metadata": {},
   "outputs": [
    {
     "data": {
      "text/plain": [
       "DatasetDict({\n",
       "    train: Dataset({\n",
       "        features: ['text', 'label', 'input_ids', 'attention_mask'],\n",
       "        num_rows: 40464\n",
       "    })\n",
       "    test: Dataset({\n",
       "        features: ['text', 'label', 'input_ids', 'attention_mask'],\n",
       "        num_rows: 17343\n",
       "    })\n",
       "})"
      ]
     },
     "execution_count": 10,
     "metadata": {},
     "output_type": "execute_result"
    }
   ],
   "source": [
    "tokenized_dataset = dataset.map(tokenize_function, batched=True)\n",
    "tokenized_dataset"
   ]
  },
  {
   "cell_type": "code",
   "execution_count": 11,
   "metadata": {},
   "outputs": [
    {
     "data": {
      "application/vnd.jupyter.widget-view+json": {
       "model_id": "bd5af3c608424041977a2a4c4a5120c1",
       "version_major": 2,
       "version_minor": 0
      },
      "text/plain": [
       "Creating json from Arrow format:   0%|          | 0/41 [00:00<?, ?ba/s]"
      ]
     },
     "metadata": {},
     "output_type": "display_data"
    },
    {
     "data": {
      "application/vnd.jupyter.widget-view+json": {
       "model_id": "df0171124288411d9e94e975b3301ce4",
       "version_major": 2,
       "version_minor": 0
      },
      "text/plain": [
       "Creating json from Arrow format:   0%|          | 0/18 [00:00<?, ?ba/s]"
      ]
     },
     "metadata": {},
     "output_type": "display_data"
    },
    {
     "data": {
      "text/plain": [
       "784754585"
      ]
     },
     "execution_count": 11,
     "metadata": {},
     "output_type": "execute_result"
    }
   ],
   "source": [
    "tokenized_dataset[\"train\"].to_json(os.path.join(DATA_PATH,\"train_tokenized.jsonl\"))\n",
    "tokenized_dataset[\"test\"].to_json(os.path.join(DATA_PATH,\"test_tokenized.jsonl\"))"
   ]
  },
  {
   "cell_type": "code",
   "execution_count": 18,
   "metadata": {},
   "outputs": [],
   "source": [
    "tokenized_dataset = load_dataset(\"json\", data_files={\"train\": os.path.join(DATA_PATH,\"train_tokenized.jsonl\"), \"test\": os.path.join(DATA_PATH,\"test_tokenized.jsonl\")})"
   ]
  },
  {
   "cell_type": "markdown",
   "metadata": {},
   "source": [
    "## evaluate function"
   ]
  },
  {
   "cell_type": "code",
   "execution_count": 12,
   "metadata": {},
   "outputs": [],
   "source": [
    "accuracy = evaluate.load(\"accuracy\")\n",
    "\n",
    "def compute_metrics(eval_pred):\n",
    "    predictions, labels = eval_pred\n",
    "    predictions = np.argmax(predictions, axis=1)\n",
    "\n",
    "    return {\"accuracy\": accuracy.compute(predictions=predictions, references=labels)}"
   ]
  },
  {
   "cell_type": "markdown",
   "metadata": {},
   "source": [
    "## test data processing"
   ]
  },
  {
   "cell_type": "markdown",
   "metadata": {},
   "source": [
    "## testing untrained model"
   ]
  },
  {
   "cell_type": "code",
   "execution_count": 25,
   "metadata": {},
   "outputs": [],
   "source": [
    "torch.cuda.empty_cache()\n",
    "torch.cuda.reset_peak_memory_stats()"
   ]
  },
  {
   "cell_type": "code",
   "execution_count": 23,
   "metadata": {},
   "outputs": [
    {
     "name": "stdout",
     "output_type": "stream",
     "text": [
      "Untrained model predictions:\n",
      "--------------------------\n",
      "Processed: 301, Correct: 265, not0: 36\r"
     ]
    },
    {
     "ename": "KeyboardInterrupt",
     "evalue": "",
     "output_type": "error",
     "traceback": [
      "\u001b[0;31m---------------------------------------------------------------------------\u001b[0m",
      "\u001b[0;31mKeyboardInterrupt\u001b[0m                         Traceback (most recent call last)",
      "Cell \u001b[0;32mIn[23], line 20\u001b[0m\n\u001b[1;32m     17\u001b[0m     \u001b[38;5;28;01mif\u001b[39;00m predictions \u001b[38;5;241m!=\u001b[39m \u001b[38;5;241m0\u001b[39m:\n\u001b[1;32m     18\u001b[0m         not_zero \u001b[38;5;241m+\u001b[39m\u001b[38;5;241m=\u001b[39m \u001b[38;5;241m1\u001b[39m\n\u001b[0;32m---> 20\u001b[0m     \u001b[38;5;28;01mif\u001b[39;00m (i) \u001b[38;5;241m%\u001b[39m log_interval \u001b[38;5;241m==\u001b[39m \u001b[38;5;241m0\u001b[39m:\n\u001b[1;32m     21\u001b[0m         \u001b[38;5;28mprint\u001b[39m(\u001b[38;5;124mf\u001b[39m\u001b[38;5;124m\"\u001b[39m\u001b[38;5;124mProcessed: \u001b[39m\u001b[38;5;132;01m{\u001b[39;00mtotal_untrained\u001b[38;5;132;01m}\u001b[39;00m\u001b[38;5;124m, Correct: \u001b[39m\u001b[38;5;132;01m{\u001b[39;00misCorret_untrained\u001b[38;5;132;01m}\u001b[39;00m\u001b[38;5;124m, not0: \u001b[39m\u001b[38;5;132;01m{\u001b[39;00mnot_zero\u001b[38;5;132;01m}\u001b[39;00m\u001b[38;5;124m\"\u001b[39m, end\u001b[38;5;241m=\u001b[39m\u001b[38;5;124m\"\u001b[39m\u001b[38;5;130;01m\\r\u001b[39;00m\u001b[38;5;124m\"\u001b[39m)\n\u001b[1;32m     23\u001b[0m accuracy_untrained \u001b[38;5;241m=\u001b[39m isCorret_untrained \u001b[38;5;241m/\u001b[39m total_untrained\n",
      "\u001b[0;31mKeyboardInterrupt\u001b[0m: "
     ]
    }
   ],
   "source": [
    "print(\"Untrained model predictions:\")\n",
    "print(\"--------------------------\")\n",
    "isCorret_untrained = 0\n",
    "total_untrained = 0\n",
    "accuracy_untrained = 0\n",
    "not_zero = 0\n",
    "log_interval = 100\n",
    "for i, entry in enumerate(dataset[\"test\"]):\n",
    "    text = entry[\"text\"]\n",
    "    total_untrained += 1\n",
    "    inputs = tokenizer.encode(text, return_tensors=\"pt\").to(DEVICE)\n",
    "    with torch.no_grad():\n",
    "        logits = pretrained_model(inputs).logits\n",
    "    predictions = torch.argmax(logits)\n",
    "    if predictions == entry[\"label\"]:\n",
    "        isCorret_untrained += 1\n",
    "    if predictions != 0:\n",
    "        not_zero += 1\n",
    "    \n",
    "    if (i) % log_interval == 0:\n",
    "        print(f\"Processed: {total_untrained}, Correct: {isCorret_untrained}, not0: {not_zero}\", end=\"\\r\")\n",
    "\n",
    "accuracy_untrained = isCorret_untrained / total_untrained\n",
    "print(f\"Accuracy: {accuracy_untrained}\")"
   ]
  },
  {
   "cell_type": "markdown",
   "metadata": {},
   "source": [
    "## Train model"
   ]
  },
  {
   "cell_type": "code",
   "execution_count": 13,
   "metadata": {},
   "outputs": [
    {
     "data": {
      "text/plain": [
       "LoraConfig(task_type='SEQ_CLS', peft_type=<PeftType.LORA: 'LORA'>, auto_mapping=None, base_model_name_or_path=None, revision=None, inference_mode=False, r=4, target_modules={'q_proj', 'o_proj', 'k_proj', 'v_proj'}, exclude_modules=None, lora_alpha=16, lora_dropout=0.1, fan_in_fan_out=False, bias='none', use_rslora=False, modules_to_save=None, init_lora_weights=True, layers_to_transform=None, layers_pattern=None, rank_pattern={}, alpha_pattern={}, megatron_config=None, megatron_core='megatron.core', loftq_config={}, eva_config=None, use_dora=False, layer_replication=None, runtime_config=LoraRuntimeConfig(ephemeral_gpu_offload=False), lora_bias=False)"
      ]
     },
     "execution_count": 13,
     "metadata": {},
     "output_type": "execute_result"
    }
   ],
   "source": [
    "peft_config = LoraConfig(\n",
    "    task_type=\"SEQ_CLS\",\n",
    "    lora_alpha=16,\n",
    "    lora_dropout=0.1,\n",
    "    target_modules=['q_proj', 'k_proj', 'v_proj', 'o_proj'],\n",
    "    r=4\n",
    ")\n",
    "peft_config"
   ]
  },
  {
   "cell_type": "code",
   "execution_count": 14,
   "metadata": {},
   "outputs": [
    {
     "name": "stdout",
     "output_type": "stream",
     "text": [
      "trainable params: 856,064 || all params: 1,236,676,608 || trainable%: 0.0692\n"
     ]
    }
   ],
   "source": [
    "model = get_peft_model(pretrained_model, peft_config)\n",
    "model.print_trainable_parameters()"
   ]
  },
  {
   "cell_type": "code",
   "execution_count": 15,
   "metadata": {},
   "outputs": [],
   "source": [
    "# hyperparameters\n",
    "lr = 1e-4\n",
    "batch_size = 4\n",
    "num_epochs = 2\n",
    "\n",
    "# Explicitly set padding token in the model config\n",
    "model.config.pad_token_id = tokenizer.pad_token_id"
   ]
  },
  {
   "cell_type": "code",
   "execution_count": 16,
   "metadata": {},
   "outputs": [],
   "source": [
    "# define training arguments\n",
    "training_args = TrainingArguments(\n",
    "    output_dir= MODEL_NAME + \"-lora-text-classification\",\n",
    "    learning_rate=lr,\n",
    "    per_device_train_batch_size=batch_size,\n",
    "    per_device_eval_batch_size=batch_size,\n",
    "    gradient_accumulation_steps=4,\n",
    "    num_train_epochs=num_epochs,\n",
    "    weight_decay=0.01,\n",
    "    eval_strategy = \"epoch\",\n",
    "    save_strategy=\"epoch\",\n",
    "    load_best_model_at_end=True,\n",
    "    gradient_checkpointing=True,\n",
    "    fp16=False,\n",
    "    bf16=True,\n",
    "    seed=RANDOM_SEED,\n",
    "    label_names=[\"labels\"]\n",
    ")"
   ]
  },
  {
   "cell_type": "code",
   "execution_count": 17,
   "metadata": {},
   "outputs": [
    {
     "name": "stderr",
     "output_type": "stream",
     "text": [
      "/tmp/ipykernel_62872/3092754953.py:1: FutureWarning: `tokenizer` is deprecated and will be removed in version 5.0.0 for `Trainer.__init__`. Use `processing_class` instead.\n",
      "  trainer = Trainer(\n"
     ]
    }
   ],
   "source": [
    "trainer = Trainer(\n",
    "    model=model,\n",
    "    args=training_args,\n",
    "    train_dataset=tokenized_dataset[\"train\"],\n",
    "    eval_dataset=tokenized_dataset[\"test\"],\n",
    "    tokenizer=tokenizer,\n",
    "    data_collator=data_collator,\n",
    "    compute_metrics=compute_metrics\n",
    ")"
   ]
  },
  {
   "cell_type": "code",
   "execution_count": 16,
   "metadata": {},
   "outputs": [],
   "source": [
    "model.gradient_checkpointing_enable()"
   ]
  },
  {
   "cell_type": "code",
   "execution_count": 18,
   "metadata": {},
   "outputs": [],
   "source": [
    "model = torch.compile(model)"
   ]
  },
  {
   "cell_type": "code",
   "execution_count": 19,
   "metadata": {},
   "outputs": [
    {
     "name": "stderr",
     "output_type": "stream",
     "text": [
      "`use_cache=True` is incompatible with gradient checkpointing. Setting `use_cache=False`.\n",
      "/home/hugo/.local/lib/python3.12/site-packages/torch/utils/checkpoint.py:87: UserWarning: None of the inputs have requires_grad=True. Gradients will be None\n",
      "  warnings.warn(\n"
     ]
    },
    {
     "data": {
      "text/html": [
       "\n",
       "    <div>\n",
       "      \n",
       "      <progress value='5058' max='5058' style='width:300px; height:20px; vertical-align: middle;'></progress>\n",
       "      [5058/5058 26:14:38, Epoch 2/2]\n",
       "    </div>\n",
       "    <table border=\"1\" class=\"dataframe\">\n",
       "  <thead>\n",
       " <tr style=\"text-align: left;\">\n",
       "      <th>Epoch</th>\n",
       "      <th>Training Loss</th>\n",
       "      <th>Validation Loss</th>\n",
       "      <th>Accuracy</th>\n",
       "    </tr>\n",
       "  </thead>\n",
       "  <tbody>\n",
       "    <tr>\n",
       "      <td>1</td>\n",
       "      <td>0.007000</td>\n",
       "      <td>0.005378</td>\n",
       "      <td>{'accuracy': 0.9993080781871648}</td>\n",
       "    </tr>\n",
       "    <tr>\n",
       "      <td>2</td>\n",
       "      <td>0.003700</td>\n",
       "      <td>0.003640</td>\n",
       "      <td>{'accuracy': 0.9993080781871648}</td>\n",
       "    </tr>\n",
       "  </tbody>\n",
       "</table><p>"
      ],
      "text/plain": [
       "<IPython.core.display.HTML object>"
      ]
     },
     "metadata": {},
     "output_type": "display_data"
    },
    {
     "name": "stderr",
     "output_type": "stream",
     "text": [
      "/home/hugo/.local/lib/python3.12/site-packages/torch/utils/checkpoint.py:87: UserWarning: None of the inputs have requires_grad=True. Gradients will be None\n",
      "  warnings.warn(\n"
     ]
    },
    {
     "data": {
      "text/plain": [
       "TrainOutput(global_step=5058, training_loss=0.00630482107241807, metrics={'train_runtime': 94492.5257, 'train_samples_per_second': 0.856, 'train_steps_per_second': 0.054, 'total_flos': 2.36473138741248e+18, 'train_loss': 0.00630482107241807, 'epoch': 2.0})"
      ]
     },
     "execution_count": 19,
     "metadata": {},
     "output_type": "execute_result"
    }
   ],
   "source": [
    "trainer.train()"
   ]
  },
  {
   "cell_type": "code",
   "execution_count": 20,
   "metadata": {},
   "outputs": [
    {
     "data": {
      "text/plain": [
       "('models/llama/tokenizer/tokenizer_config.json',\n",
       " 'models/llama/tokenizer/special_tokens_map.json',\n",
       " 'models/llama/tokenizer/tokenizer.json')"
      ]
     },
     "execution_count": 20,
     "metadata": {},
     "output_type": "execute_result"
    }
   ],
   "source": [
    "# save model\n",
    "\n",
    "# create the paths needed\n",
    "path = os.path.join(\"models\", MODEL_NAME_PATH)\n",
    "trained_model_path = os.path.join(path, MODEL_DIR)\n",
    "trained_tokenizer_path = os.path.join(path, TOKENIZER_DIR)\n",
    "\n",
    "os.makedirs(path, exist_ok=True)\n",
    "os.makedirs(trained_model_path, exist_ok=True)\n",
    "os.makedirs(trained_tokenizer_path, exist_ok=True)\n",
    "\n",
    "full_model = model.merge_and_unload()\n",
    "full_model.save_pretrained(trained_model_path)\n",
    "tokenizer.save_pretrained(trained_tokenizer_path)"
   ]
  },
  {
   "cell_type": "markdown",
   "metadata": {},
   "source": [
    "## testing trained model"
   ]
  },
  {
   "cell_type": "code",
   "execution_count": 21,
   "metadata": {},
   "outputs": [
    {
     "name": "stdout",
     "output_type": "stream",
     "text": [
      "trained model predictions:\n",
      "--------------------------\n",
      "Skipped one row Correct: 801, not0: 0\n",
      "Skipped one row, Correct: 3298, not0: 0\n",
      "Skipped one row9, Correct: 10791, not0: 0\n",
      "Skipped one row8, Correct: 13189, not0: 0\n",
      "Skipped one row7, Correct: 14087, not0: 0\n",
      "Skipped one row6, Correct: 14686, not0: 0\n",
      "Skipped one row\n",
      "Skipped one row4, Correct: 16683, not0: 0\n",
      "Accuracy: 0.99930775886933957281, not0: 0\n"
     ]
    }
   ],
   "source": [
    "print(\"trained model predictions:\")\n",
    "print(\"--------------------------\")\n",
    "isCorrect_trained = 0\n",
    "total_trained = 0\n",
    "accuracy_trained = 0\n",
    "not_zero = 0\n",
    "log_interval = 100\n",
    "for i, entry in enumerate(dataset[\"test\"]):\n",
    "    text = entry[\"text\"]\n",
    "    total_trained += 1\n",
    "    try:\n",
    "        inputs = tokenizer.encode(text, return_tensors=\"pt\").to(DEVICE)\n",
    "        with torch.no_grad():\n",
    "            logits = model(inputs).logits\n",
    "        predictions = torch.argmax(logits)\n",
    "        if predictions == entry[\"label\"]:\n",
    "            isCorrect_trained += 1\n",
    "        if predictions != 0:\n",
    "            not_zero += 1\n",
    "    \n",
    "        if (i) % log_interval == 0:\n",
    "            print(f\"Processed: {total_trained}, Correct: {isCorrect_trained}, not0: {not_zero}\", end=\"\\r\")\n",
    "    except:\n",
    "        print(\"Skipped one row\")\n",
    "        total_trained -= 1\n",
    "\n",
    "accuracy_trained = isCorrect_trained / total_trained\n",
    "print(f\"Accuracy: {accuracy_trained}\")"
   ]
  }
 ],
 "metadata": {
  "kernelspec": {
   "display_name": "Python 3",
   "language": "python",
   "name": "python3"
  },
  "language_info": {
   "codemirror_mode": {
    "name": "ipython",
    "version": 3
   },
   "file_extension": ".py",
   "mimetype": "text/x-python",
   "name": "python",
   "nbconvert_exporter": "python",
   "pygments_lexer": "ipython3",
   "version": "2.7.undefined"
  }
 },
 "nbformat": 4,
 "nbformat_minor": 2
}
